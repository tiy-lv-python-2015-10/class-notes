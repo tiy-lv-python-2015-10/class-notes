{
 "cells": [
  {
   "cell_type": "code",
   "execution_count": 2,
   "metadata": {
    "collapsed": false
   },
   "outputs": [],
   "source": [
    "import requests as r\n",
    "from bs4 import BeautifulSoup"
   ]
  },
  {
   "cell_type": "code",
   "execution_count": 44,
   "metadata": {
    "collapsed": true
   },
   "outputs": [],
   "source": [
    "response = r.get(\"https://lasvegas.craigslist.org/search/cba#grid\")"
   ]
  },
  {
   "cell_type": "code",
   "execution_count": null,
   "metadata": {
    "collapsed": false
   },
   "outputs": [],
   "source": [
    "response.content"
   ]
  },
  {
   "cell_type": "code",
   "execution_count": 46,
   "metadata": {
    "collapsed": true
   },
   "outputs": [],
   "source": [
    "soup = BeautifulSoup(response.content, 'html.parser')"
   ]
  },
  {
   "cell_type": "code",
   "execution_count": 6,
   "metadata": {
    "collapsed": false
   },
   "outputs": [
    {
     "data": {
      "text/plain": [
       "<p class=\"row\" data-pid=\"5320570153\"> <a class=\"i\" data-ids=\"0:00Y0Y_3Jkyt43AhIo\" href=\"/clt/5320570153.html\"><span class=\"price\">$10</span></a> <span class=\"txt\"> <span class=\"star\"></span> <span class=\"pl\"> <time datetime=\"2015-11-24 09:13\" title=\"Tue 24 Nov 09:13:19 AM\">Nov 24</time> <a class=\"hdrlnk\" data-id=\"5320570153\" href=\"/clt/5320570153.html\">Dunes Casino collectable $5 gaming tokens 1988</a> </span> <span class=\"l2\"> <span class=\"price\">$10</span> <span class=\"pnr\"> <small> (n las vegas)</small> <span class=\"px\"> <span class=\"p\"> pic</span></span> </span> </span> <span class=\"js-only banish-unbanish no-mobile\"> <span class=\"banish\" title=\"dismiss\">[×]</span> <span class=\"unbanish\" title=\"allow\">[undo]</span></span> </span> </p>"
      ]
     },
     "execution_count": 6,
     "metadata": {},
     "output_type": "execute_result"
    }
   ],
   "source": [
    "soup.p"
   ]
  },
  {
   "cell_type": "code",
   "execution_count": 7,
   "metadata": {
    "collapsed": false
   },
   "outputs": [
    {
     "data": {
      "text/plain": [
       "<title>las vegas collectibles - craigslist</title>"
      ]
     },
     "execution_count": 7,
     "metadata": {},
     "output_type": "execute_result"
    }
   ],
   "source": [
    "soup.title"
   ]
  },
  {
   "cell_type": "code",
   "execution_count": 8,
   "metadata": {
    "collapsed": false
   },
   "outputs": [
    {
     "data": {
      "text/plain": [
       "bs4.element.Tag"
      ]
     },
     "execution_count": 8,
     "metadata": {},
     "output_type": "execute_result"
    }
   ],
   "source": [
    "type(soup.p)"
   ]
  },
  {
   "cell_type": "code",
   "execution_count": 9,
   "metadata": {
    "collapsed": false
   },
   "outputs": [
    {
     "data": {
      "text/plain": [
       "'las vegas collectibles - craigslist'"
      ]
     },
     "execution_count": 9,
     "metadata": {},
     "output_type": "execute_result"
    }
   ],
   "source": [
    "soup.title.string"
   ]
  },
  {
   "cell_type": "code",
   "execution_count": 10,
   "metadata": {
    "collapsed": true
   },
   "outputs": [],
   "source": [
    "soup.p.string"
   ]
  },
  {
   "cell_type": "code",
   "execution_count": 11,
   "metadata": {
    "collapsed": false
   },
   "outputs": [
    {
     "data": {
      "text/plain": [
       "'title'"
      ]
     },
     "execution_count": 11,
     "metadata": {},
     "output_type": "execute_result"
    }
   ],
   "source": [
    "soup.title.name"
   ]
  },
  {
   "cell_type": "code",
   "execution_count": 12,
   "metadata": {
    "collapsed": false
   },
   "outputs": [
    {
     "name": "stdout",
     "output_type": "stream",
     "text": [
      "<p class=\"row\" data-pid=\"5320570153\"> <a class=\"i\" data-ids=\"0:00Y0Y_3Jkyt43AhIo\" href=\"/clt/5320570153.html\"><span class=\"price\">$10</span></a> <span class=\"txt\"> <span class=\"star\"></span> <span class=\"pl\"> <time datetime=\"2015-11-24 09:13\" title=\"Tue 24 Nov 09:13:19 AM\">Nov 24</time> <a class=\"hdrlnk\" data-id=\"5320570153\" href=\"/clt/5320570153.html\">Dunes Casino collectable $5 gaming tokens 1988</a> </span> <span class=\"l2\"> <span class=\"price\">$10</span> <span class=\"pnr\"> <small> (n las vegas)</small> <span class=\"px\"> <span class=\"p\"> pic</span></span> </span> </span> <span class=\"js-only banish-unbanish no-mobile\"> <span class=\"banish\" title=\"dismiss\">[×]</span> <span class=\"unbanish\" title=\"allow\">[undo]</span></span> </span> </p>\n"
     ]
    }
   ],
   "source": [
    "print(soup.p)"
   ]
  },
  {
   "cell_type": "code",
   "execution_count": 13,
   "metadata": {
    "collapsed": false
   },
   "outputs": [
    {
     "data": {
      "text/plain": [
       "[' ',\n",
       " <a class=\"i\" data-ids=\"0:00Y0Y_3Jkyt43AhIo\" href=\"/clt/5320570153.html\"><span class=\"price\">$10</span></a>,\n",
       " ' ',\n",
       " <span class=\"txt\"> <span class=\"star\"></span> <span class=\"pl\"> <time datetime=\"2015-11-24 09:13\" title=\"Tue 24 Nov 09:13:19 AM\">Nov 24</time> <a class=\"hdrlnk\" data-id=\"5320570153\" href=\"/clt/5320570153.html\">Dunes Casino collectable $5 gaming tokens 1988</a> </span> <span class=\"l2\"> <span class=\"price\">$10</span> <span class=\"pnr\"> <small> (n las vegas)</small> <span class=\"px\"> <span class=\"p\"> pic</span></span> </span> </span> <span class=\"js-only banish-unbanish no-mobile\"> <span class=\"banish\" title=\"dismiss\">[×]</span> <span class=\"unbanish\" title=\"allow\">[undo]</span></span> </span>,\n",
       " ' ']"
      ]
     },
     "execution_count": 13,
     "metadata": {},
     "output_type": "execute_result"
    }
   ],
   "source": [
    "soup.p.contents"
   ]
  },
  {
   "cell_type": "code",
   "execution_count": 14,
   "metadata": {
    "collapsed": false
   },
   "outputs": [
    {
     "data": {
      "text/plain": [
       "['row']"
      ]
     },
     "execution_count": 14,
     "metadata": {},
     "output_type": "execute_result"
    }
   ],
   "source": [
    "soup.p['class']"
   ]
  },
  {
   "cell_type": "code",
   "execution_count": 15,
   "metadata": {
    "collapsed": false
   },
   "outputs": [
    {
     "data": {
      "text/plain": [
       "'5320570153'"
      ]
     },
     "execution_count": 15,
     "metadata": {},
     "output_type": "execute_result"
    }
   ],
   "source": [
    "soup.p['data-pid']"
   ]
  },
  {
   "cell_type": "code",
   "execution_count": 16,
   "metadata": {
    "collapsed": false
   },
   "outputs": [
    {
     "data": {
      "text/plain": [
       "'/'"
      ]
     },
     "execution_count": 16,
     "metadata": {},
     "output_type": "execute_result"
    }
   ],
   "source": [
    "soup.a['href']"
   ]
  },
  {
   "cell_type": "markdown",
   "metadata": {},
   "source": [
    "# Navigation"
   ]
  },
  {
   "cell_type": "code",
   "execution_count": 17,
   "metadata": {
    "collapsed": true
   },
   "outputs": [],
   "source": [
    "first_p = soup.p"
   ]
  },
  {
   "cell_type": "code",
   "execution_count": 18,
   "metadata": {
    "collapsed": false
   },
   "outputs": [
    {
     "data": {
      "text/plain": [
       "'div'"
      ]
     },
     "execution_count": 18,
     "metadata": {},
     "output_type": "execute_result"
    }
   ],
   "source": [
    "first_p.parent.name"
   ]
  },
  {
   "cell_type": "code",
   "execution_count": null,
   "metadata": {
    "collapsed": false
   },
   "outputs": [],
   "source": [
    "first_p.parent"
   ]
  },
  {
   "cell_type": "code",
   "execution_count": 20,
   "metadata": {
    "collapsed": false
   },
   "outputs": [
    {
     "name": "stdout",
     "output_type": "stream",
     "text": [
      "div\n",
      "div\n",
      "form\n",
      "div\n",
      "section\n",
      "body\n",
      "html\n",
      "[document]\n"
     ]
    }
   ],
   "source": [
    "for tag in first_p.parents:\n",
    "    print(tag.name)"
   ]
  },
  {
   "cell_type": "code",
   "execution_count": 21,
   "metadata": {
    "collapsed": false
   },
   "outputs": [
    {
     "data": {
      "text/plain": [
       "<a class=\"i\" data-ids=\"0:00Y0Y_3Jkyt43AhIo\" href=\"/clt/5320570153.html\"><span class=\"price\">$10</span></a>"
      ]
     },
     "execution_count": 21,
     "metadata": {},
     "output_type": "execute_result"
    }
   ],
   "source": [
    "first_p.a"
   ]
  },
  {
   "cell_type": "code",
   "execution_count": 24,
   "metadata": {
    "collapsed": false
   },
   "outputs": [
    {
     "name": "stdout",
     "output_type": "stream",
     "text": [
      "None\n",
      "span\n",
      "None\n"
     ]
    }
   ],
   "source": [
    "for tag in first_p.a.next_siblings:\n",
    "    print(tag.name)"
   ]
  },
  {
   "cell_type": "code",
   "execution_count": 28,
   "metadata": {
    "collapsed": false
   },
   "outputs": [
    {
     "name": "stdout",
     "output_type": "stream",
     "text": [
      "a\n",
      "span\n"
     ]
    }
   ],
   "source": [
    "for tag in first_p.children:\n",
    "    if tag.name:\n",
    "        print(tag.name)"
   ]
  },
  {
   "cell_type": "markdown",
   "metadata": {},
   "source": [
    "# Find"
   ]
  },
  {
   "cell_type": "code",
   "execution_count": 29,
   "metadata": {
    "collapsed": false
   },
   "outputs": [
    {
     "data": {
      "text/plain": [
       "[<title>las vegas collectibles - craigslist</title>]"
      ]
     },
     "execution_count": 29,
     "metadata": {},
     "output_type": "execute_result"
    }
   ],
   "source": [
    "soup.find_all('title')"
   ]
  },
  {
   "cell_type": "code",
   "execution_count": 40,
   "metadata": {
    "collapsed": false
   },
   "outputs": [
    {
     "data": {
      "text/plain": [
       "[<span class=\"no-js\"><a href=\"/\">las vegas</a></span>,\n",
       " <span class=\"breadcrumb-arrow\">&gt;</span>]"
      ]
     },
     "execution_count": 40,
     "metadata": {},
     "output_type": "execute_result"
    }
   ],
   "source": [
    "soup.find_all('span', limit=2)"
   ]
  },
  {
   "cell_type": "code",
   "execution_count": 39,
   "metadata": {
    "collapsed": false
   },
   "outputs": [
    {
     "data": {
      "text/plain": [
       "[<title>las vegas collectibles - craigslist</title>,\n",
       " <time datetime=\"2015-11-24 09:13\" title=\"Tue 24 Nov 09:13:19 AM\">Nov 24</time>]"
      ]
     },
     "execution_count": 39,
     "metadata": {},
     "output_type": "execute_result"
    }
   ],
   "source": [
    "soup.find_all(['title', 'time'], limit=2)"
   ]
  },
  {
   "cell_type": "code",
   "execution_count": 35,
   "metadata": {
    "collapsed": false
   },
   "outputs": [
    {
     "data": {
      "text/plain": [
       "[]"
      ]
     },
     "execution_count": 35,
     "metadata": {},
     "output_type": "execute_result"
    }
   ],
   "source": [
    "soup.find_all('p', 'row')"
   ]
  },
  {
   "cell_type": "code",
   "execution_count": 38,
   "metadata": {
    "collapsed": false
   },
   "outputs": [
    {
     "data": {
      "text/plain": [
       "[<span class=\"unbanish\" title=\"allow\">[undo]</span>,\n",
       " <span class=\"unbanish\" title=\"allow\">[undo]</span>]"
      ]
     },
     "execution_count": 38,
     "metadata": {},
     "output_type": "execute_result"
    }
   ],
   "source": [
    "soup.find_all('span', title='allow', limit=2)"
   ]
  },
  {
   "cell_type": "code",
   "execution_count": 41,
   "metadata": {
    "collapsed": false
   },
   "outputs": [
    {
     "data": {
      "text/plain": [
       "[<p class=\"row\" data-pid=\"5320570153\"> <a class=\"i\" data-ids=\"0:00Y0Y_3Jkyt43AhIo\" href=\"/clt/5320570153.html\"><span class=\"price\">$10</span></a> <span class=\"txt\"> <span class=\"star\"></span> <span class=\"pl\"> <time datetime=\"2015-11-24 09:13\" title=\"Tue 24 Nov 09:13:19 AM\">Nov 24</time> <a class=\"hdrlnk\" data-id=\"5320570153\" href=\"/clt/5320570153.html\">Dunes Casino collectable $5 gaming tokens 1988</a> </span> <span class=\"l2\"> <span class=\"price\">$10</span> <span class=\"pnr\"> <small> (n las vegas)</small> <span class=\"px\"> <span class=\"p\"> pic</span></span> </span> </span> <span class=\"js-only banish-unbanish no-mobile\"> <span class=\"banish\" title=\"dismiss\">[×]</span> <span class=\"unbanish\" title=\"allow\">[undo]</span></span> </span> </p>,\n",
       " <p class=\"row\" data-pid=\"5330405583\" data-repost-of=\"5199161881\"> <a class=\"i\" data-ids=\"0:00k0k_8HRap2j8RaN\" href=\"/clt/5330405583.html\"><span class=\"price\">$35</span></a> <span class=\"txt\"> <span class=\"star\"></span> <span class=\"pl\"> <time datetime=\"2015-11-24 09:11\" title=\"Tue 24 Nov 09:11:49 AM\">Nov 24</time> <a class=\"hdrlnk\" data-id=\"5330405583\" href=\"/clt/5330405583.html\">Singer Sewing Machine Attachments</a> </span> <span class=\"l2\"> <span class=\"price\">$35</span> <span class=\"pnr\"> <small> (The Strip)</small> <span class=\"px\"> <span class=\"p\"> pic <span class=\"maptag\" data-pid=\"5330405583\">map</span></span></span> </span> </span> <span class=\"js-only banish-unbanish no-mobile\"> <span class=\"banish\" title=\"dismiss\">[×]</span> <span class=\"unbanish\" title=\"allow\">[undo]</span></span> </span> </p>]"
      ]
     },
     "execution_count": 41,
     "metadata": {},
     "output_type": "execute_result"
    }
   ],
   "source": [
    "soup.find_all('p', class_='row', limit=2)"
   ]
  },
  {
   "cell_type": "code",
   "execution_count": 47,
   "metadata": {
    "collapsed": true
   },
   "outputs": [],
   "source": [
    "first_product = soup.find('p', class_='row')"
   ]
  },
  {
   "cell_type": "code",
   "execution_count": 48,
   "metadata": {
    "collapsed": false
   },
   "outputs": [
    {
     "data": {
      "text/plain": [
       "<p class=\"row\" data-pid=\"5330484203\"> <a class=\"i\" data-ids=\"0:00P0P_cUcsWiIJtav,0:00H0H_12EsSlnoCZI,0:00n0n_lmfYI0tdC1s,0:00P0P_kaFZDdcNKBJ\" href=\"/clt/5330484203.html\"><span class=\"price\">$200</span></a> <span class=\"txt\"> <span class=\"star\"></span> <span class=\"pl\"> <time datetime=\"2015-11-24 09:48\" title=\"Tue 24 Nov 09:48:01 AM\">Nov 24</time> <a class=\"hdrlnk\" data-id=\"5330484203\" href=\"/clt/5330484203.html\">100 SONG OF THE SOUTH POSTERS</a> </span> <span class=\"l2\"> <span class=\"price\">$200</span> <span class=\"pnr\"> <span class=\"px\"> <span class=\"p\"> pic <span class=\"maptag\" data-pid=\"5330484203\">map</span></span></span> </span> </span> <span class=\"js-only banish-unbanish no-mobile\"> <span class=\"banish\" title=\"dismiss\">[×]</span> <span class=\"unbanish\" title=\"allow\">[undo]</span></span> </span> </p>"
      ]
     },
     "execution_count": 48,
     "metadata": {},
     "output_type": "execute_result"
    }
   ],
   "source": [
    "first_product"
   ]
  },
  {
   "cell_type": "code",
   "execution_count": 49,
   "metadata": {
    "collapsed": true
   },
   "outputs": [],
   "source": [
    "product_id = first_product['data-pid']"
   ]
  },
  {
   "cell_type": "code",
   "execution_count": 50,
   "metadata": {
    "collapsed": false
   },
   "outputs": [
    {
     "data": {
      "text/plain": [
       "'5330484203'"
      ]
     },
     "execution_count": 50,
     "metadata": {},
     "output_type": "execute_result"
    }
   ],
   "source": [
    "product_id"
   ]
  },
  {
   "cell_type": "code",
   "execution_count": 51,
   "metadata": {
    "collapsed": true
   },
   "outputs": [],
   "source": [
    "product_href = first_product.a['href']"
   ]
  },
  {
   "cell_type": "code",
   "execution_count": 52,
   "metadata": {
    "collapsed": false
   },
   "outputs": [
    {
     "name": "stdout",
     "output_type": "stream",
     "text": [
      "/clt/5330484203.html\n"
     ]
    }
   ],
   "source": [
    "print(product_href)"
   ]
  },
  {
   "cell_type": "code",
   "execution_count": 54,
   "metadata": {
    "collapsed": false
   },
   "outputs": [],
   "source": [
    "price = first_product.a.span.string"
   ]
  },
  {
   "cell_type": "code",
   "execution_count": 55,
   "metadata": {
    "collapsed": false
   },
   "outputs": [
    {
     "data": {
      "text/plain": [
       "'2015-11-24 09:48'"
      ]
     },
     "execution_count": 55,
     "metadata": {},
     "output_type": "execute_result"
    }
   ],
   "source": [
    "first_product.find('time')['datetime']"
   ]
  },
  {
   "cell_type": "code",
   "execution_count": 56,
   "metadata": {
    "collapsed": false
   },
   "outputs": [
    {
     "data": {
      "text/plain": [
       "'100 SONG OF THE SOUTH POSTERS'"
      ]
     },
     "execution_count": 56,
     "metadata": {},
     "output_type": "execute_result"
    }
   ],
   "source": [
    "first_product.find('a', class_='hdrlnk').string"
   ]
  },
  {
   "cell_type": "code",
   "execution_count": null,
   "metadata": {
    "collapsed": true
   },
   "outputs": [],
   "source": []
  }
 ],
 "metadata": {
  "kernelspec": {
   "display_name": "Python 3",
   "language": "python",
   "name": "python3"
  },
  "language_info": {
   "codemirror_mode": {
    "name": "ipython",
    "version": 3
   },
   "file_extension": ".py",
   "mimetype": "text/x-python",
   "name": "python",
   "nbconvert_exporter": "python",
   "pygments_lexer": "ipython3",
   "version": "3.5.0"
  }
 },
 "nbformat": 4,
 "nbformat_minor": 0
}
