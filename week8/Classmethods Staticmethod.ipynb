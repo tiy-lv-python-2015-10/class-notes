{
 "cells": [
  {
   "cell_type": "markdown",
   "metadata": {},
   "source": [
    "# Staticmethod and Classmethod"
   ]
  },
  {
   "cell_type": "markdown",
   "metadata": {},
   "source": [
    "2 annotations that need to be noted are `@staticmethod` and `@classmethod`"
   ]
  },
  {
   "cell_type": "code",
   "execution_count": 8,
   "metadata": {
    "collapsed": true
   },
   "outputs": [],
   "source": [
    "from random import randint\n",
    "class Person:\n",
    "    \n",
    "    def __init__(self, name, age):\n",
    "        self.name = name\n",
    "        self.age = age\n",
    "        \n",
    "    def is_adult(self):\n",
    "        return self.age >= 21\n",
    "    \n",
    "    @property\n",
    "    def senior(self):\n",
    "        return self.age >= 65\n",
    "    \n",
    "    @staticmethod\n",
    "    def total_age(age1, age2):\n",
    "        \"\"\"\n",
    "        The static method is one that belongs to the class logically\n",
    "        but does not need the class to operate such as this addition\n",
    "        method.\n",
    "        \"\"\"\n",
    "        return age1 + age2\n",
    "    \n",
    "    def __str__(self):\n",
    "        return \"Name: {} Age:{}\".format(self.name, self.age)\n",
    "\n",
    "    @classmethod\n",
    "    def create_random_minor(cls):\n",
    "        \"\"\"\n",
    "        Class methods don't get an instance of the class but they get\n",
    "        the actual class object.  This is useful for factory methods to \n",
    "        create certain types of classes.\n",
    "        \"\"\"\n",
    "        return cls(\"Ryan\", 19)"
   ]
  },
  {
   "cell_type": "code",
   "execution_count": 4,
   "metadata": {
    "collapsed": true
   },
   "outputs": [],
   "source": [
    "cesar = Person('Cesar', 20)"
   ]
  },
  {
   "cell_type": "code",
   "execution_count": 5,
   "metadata": {
    "collapsed": false
   },
   "outputs": [
    {
     "data": {
      "text/plain": [
       "False"
      ]
     },
     "execution_count": 5,
     "metadata": {},
     "output_type": "execute_result"
    }
   ],
   "source": [
    "cesar.is_adult()"
   ]
  },
  {
   "cell_type": "code",
   "execution_count": 6,
   "metadata": {
    "collapsed": false
   },
   "outputs": [
    {
     "data": {
      "text/plain": [
       "False"
      ]
     },
     "execution_count": 6,
     "metadata": {},
     "output_type": "execute_result"
    }
   ],
   "source": [
    "cesar.senior"
   ]
  },
  {
   "cell_type": "markdown",
   "metadata": {},
   "source": []
  },
  {
   "cell_type": "code",
   "execution_count": null,
   "metadata": {
    "collapsed": true
   },
   "outputs": [],
   "source": [
    "Person.is_adult(cesar)"
   ]
  },
  {
   "cell_type": "markdown",
   "metadata": {},
   "source": [
    "# More examples"
   ]
  },
  {
   "cell_type": "code",
   "execution_count": null,
   "metadata": {
    "collapsed": true
   },
   "outputs": [],
   "source": [
    "class Pizza(object):\n",
    "    @staticmethod\n",
    "    def mix_ingredients(x, y):\n",
    "        return x + y\n",
    " \n",
    "    def cook(self):\n",
    "        return self.mix_ingredients(self.cheese, self.vegetables)"
   ]
  },
  {
   "cell_type": "code",
   "execution_count": null,
   "metadata": {
    "collapsed": true
   },
   "outputs": [],
   "source": [
    "class Pizza(object):\n",
    "    def __init__(self, radius, height):\n",
    "        self.radius = radius\n",
    "        self.height = height\n",
    " \n",
    "    @staticmethod\n",
    "    def compute_area(radius):\n",
    "         return math.pi * (radius ** 2)\n",
    " \n",
    "    @classmethod\n",
    "    def compute_volume(cls, height, radius):\n",
    "         return height * cls.compute_area(radius)\n",
    " \n",
    "    def get_volume(self):\n",
    "        return self.compute_volume(self.height, self.radius)"
   ]
  }
 ],
 "metadata": {
  "kernelspec": {
   "display_name": "Python 3",
   "language": "python",
   "name": "python3"
  },
  "language_info": {
   "codemirror_mode": {
    "name": "ipython",
    "version": 3
   },
   "file_extension": ".py",
   "mimetype": "text/x-python",
   "name": "python",
   "nbconvert_exporter": "python",
   "pygments_lexer": "ipython3",
   "version": "3.5.0"
  }
 },
 "nbformat": 4,
 "nbformat_minor": 0
}
