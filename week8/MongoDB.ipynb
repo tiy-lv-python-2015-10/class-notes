{
 "cells": [
  {
   "cell_type": "code",
   "execution_count": 1,
   "metadata": {
    "collapsed": true
   },
   "outputs": [],
   "source": [
    "from pymongo import MongoClient\n",
    "import pymongo"
   ]
  },
  {
   "cell_type": "code",
   "execution_count": 2,
   "metadata": {
    "collapsed": true
   },
   "outputs": [],
   "source": [
    "client = MongoClient()"
   ]
  },
  {
   "cell_type": "code",
   "execution_count": 7,
   "metadata": {
    "collapsed": true
   },
   "outputs": [],
   "source": [
    "db = client.test"
   ]
  },
  {
   "cell_type": "code",
   "execution_count": 8,
   "metadata": {
    "collapsed": false
   },
   "outputs": [
    {
     "data": {
      "text/plain": [
       "Collection(Database(MongoClient(host=['localhost:27017'], document_class=dict, tz_aware=False, connect=True), 'test'), 'restaurants')"
      ]
     },
     "execution_count": 8,
     "metadata": {},
     "output_type": "execute_result"
    }
   ],
   "source": [
    "db.restaurants"
   ]
  },
  {
   "cell_type": "markdown",
   "metadata": {},
   "source": [
    "# Find Stuff"
   ]
  },
  {
   "cell_type": "code",
   "execution_count": 9,
   "metadata": {
    "collapsed": false
   },
   "outputs": [
    {
     "data": {
      "text/plain": [
       "{'_id': ObjectId('5654b1ee419b8cb26f547fff'),\n",
       " 'address': {'building': '244',\n",
       "  'coord': [-73.9865289, 40.7606981],\n",
       "  'street': 'West   48 Street',\n",
       "  'zipcode': '10036'},\n",
       " 'borough': 'Manhattan',\n",
       " 'cuisine': 'Thai',\n",
       " 'grades': [{'date': datetime.datetime(2014, 8, 13, 0, 0),\n",
       "   'grade': 'A',\n",
       "   'score': 10},\n",
       "  {'date': datetime.datetime(2014, 1, 14, 0, 0), 'grade': 'B', 'score': 24},\n",
       "  {'date': datetime.datetime(2013, 7, 25, 0, 0), 'grade': 'A', 'score': 12},\n",
       "  {'date': datetime.datetime(2013, 1, 10, 0, 0), 'grade': 'C', 'score': 4},\n",
       "  {'date': datetime.datetime(2012, 6, 18, 0, 0), 'grade': 'A', 'score': 11},\n",
       "  {'date': datetime.datetime(2012, 2, 17, 0, 0), 'grade': 'P', 'score': 6}],\n",
       " 'name': 'Pongsri Thai Restaurant',\n",
       " 'restaurant_id': '40374088'}"
      ]
     },
     "execution_count": 9,
     "metadata": {},
     "output_type": "execute_result"
    }
   ],
   "source": [
    "db.restaurants.find_one({\"restaurant_id\":\"40374088\"})"
   ]
  },
  {
   "cell_type": "code",
   "execution_count": 10,
   "metadata": {
    "collapsed": true
   },
   "outputs": [],
   "source": [
    "cursor = db.restaurants.find({\"grades.grade\":\"C\"}, limit=2)"
   ]
  },
  {
   "cell_type": "code",
   "execution_count": 11,
   "metadata": {
    "collapsed": false
   },
   "outputs": [
    {
     "name": "stdout",
     "output_type": "stream",
     "text": [
      "{'borough': 'Brooklyn', 'restaurant_id': '40358429', '_id': ObjectId('5654b1ee419b8cb26f547e8e'), 'name': 'May May Kitchen', 'cuisine': 'Chinese', 'address': {'coord': [-73.871194, 40.6730975], 'zipcode': '11208', 'street': 'Sutter Avenue', 'building': '1269'}, 'grades': [{'score': 21, 'grade': 'B', 'date': datetime.datetime(2014, 9, 16, 0, 0)}, {'score': 7, 'grade': 'A', 'date': datetime.datetime(2013, 8, 28, 0, 0)}, {'score': 56, 'grade': 'C', 'date': datetime.datetime(2013, 4, 2, 0, 0)}, {'score': 27, 'grade': 'B', 'date': datetime.datetime(2012, 8, 15, 0, 0)}, {'score': 27, 'grade': 'B', 'date': datetime.datetime(2012, 3, 28, 0, 0)}]}\n",
      "{'borough': 'Queens', 'restaurant_id': '40364262', '_id': ObjectId('5654b1ee419b8cb26f547eb4'), 'name': 'Terminal Cafe/Yankee Clipper', 'cuisine': 'American ', 'address': {'coord': [-84.2040813, 9.9986585], 'zipcode': '11371', 'street': 'Guardia Airport Parking', 'building': '0'}, 'grades': [{'score': 9, 'grade': 'A', 'date': datetime.datetime(2014, 5, 16, 0, 0)}, {'score': 10, 'grade': 'A', 'date': datetime.datetime(2013, 5, 10, 0, 0)}, {'score': 9, 'grade': 'A', 'date': datetime.datetime(2012, 5, 15, 0, 0)}, {'score': 32, 'grade': 'C', 'date': datetime.datetime(2011, 11, 2, 0, 0)}]}\n"
     ]
    }
   ],
   "source": [
    "for document in cursor:\n",
    "    print(document)"
   ]
  },
  {
   "cell_type": "code",
   "execution_count": 13,
   "metadata": {
    "collapsed": true
   },
   "outputs": [],
   "source": [
    "cursor = db.restaurants.find({\"address.zipcode\":\"11208\"}, limit=2)"
   ]
  },
  {
   "cell_type": "code",
   "execution_count": 14,
   "metadata": {
    "collapsed": false
   },
   "outputs": [
    {
     "name": "stdout",
     "output_type": "stream",
     "text": [
      "{'borough': 'Brooklyn', 'restaurant_id': '40358429', '_id': ObjectId('5654b1ee419b8cb26f547e8e'), 'name': 'May May Kitchen', 'cuisine': 'Chinese', 'address': {'coord': [-73.871194, 40.6730975], 'zipcode': '11208', 'street': 'Sutter Avenue', 'building': '1269'}, 'grades': [{'score': 21, 'grade': 'B', 'date': datetime.datetime(2014, 9, 16, 0, 0)}, {'score': 7, 'grade': 'A', 'date': datetime.datetime(2013, 8, 28, 0, 0)}, {'score': 56, 'grade': 'C', 'date': datetime.datetime(2013, 4, 2, 0, 0)}, {'score': 27, 'grade': 'B', 'date': datetime.datetime(2012, 8, 15, 0, 0)}, {'score': 27, 'grade': 'B', 'date': datetime.datetime(2012, 3, 28, 0, 0)}]}\n",
      "{'borough': 'Brooklyn', 'restaurant_id': '40386837', '_id': ObjectId('5654b1ee419b8cb26f548103'), 'name': 'White Castle', 'cuisine': 'Hamburgers', 'address': {'coord': [-73.8812773, 40.679218], 'zipcode': '11208', 'street': 'Atlantic Avenue', 'building': '3101'}, 'grades': [{'score': 2, 'grade': 'A', 'date': datetime.datetime(2014, 11, 14, 0, 0)}, {'score': 3, 'grade': 'A', 'date': datetime.datetime(2013, 10, 21, 0, 0)}, {'score': 0, 'grade': 'A', 'date': datetime.datetime(2012, 11, 14, 0, 0)}]}\n"
     ]
    }
   ],
   "source": [
    "for doc in cursor:\n",
    "    print(doc)"
   ]
  },
  {
   "cell_type": "markdown",
   "metadata": {},
   "source": [
    "# Conditionals"
   ]
  },
  {
   "cell_type": "code",
   "execution_count": 17,
   "metadata": {
    "collapsed": false
   },
   "outputs": [
    {
     "name": "stdout",
     "output_type": "stream",
     "text": [
      "{'borough': 'Brooklyn', 'restaurant_id': '30112340', '_id': ObjectId('5654b1ee419b8cb26f547e81'), 'name': \"Wendy'S\", 'cuisine': 'Hamburgers', 'address': {'coord': [-73.961704, 40.662942], 'zipcode': '11225', 'street': 'Flatbush Avenue', 'building': '469'}, 'grades': [{'score': 8, 'grade': 'A', 'date': datetime.datetime(2014, 12, 30, 0, 0)}, {'score': 23, 'grade': 'B', 'date': datetime.datetime(2014, 7, 1, 0, 0)}, {'grade': 'A', 'score': 12, 'date': datetime.datetime(2013, 4, 30, 0, 0)}, {'score': 12, 'grade': 'A', 'date': datetime.datetime(2012, 5, 8, 0, 0)}]}\n",
      "{'borough': 'Queens', 'restaurant_id': '40356068', '_id': ObjectId('5654b1ee419b8cb26f547e85'), 'name': 'Tov Kosher Kitchen', 'cuisine': 'Jewish/Kosher', 'address': {'coord': [-73.8601152, 40.7311739], 'zipcode': '11374', 'street': '63 Road', 'building': '97-22'}, 'grades': [{'score': 20, 'grade': 'Z', 'date': datetime.datetime(2014, 11, 24, 0, 0)}, {'score': 13, 'grade': 'A', 'date': datetime.datetime(2013, 1, 17, 0, 0)}, {'score': 13, 'grade': 'A', 'date': datetime.datetime(2012, 8, 2, 0, 0)}, {'score': 25, 'grade': 'B', 'date': datetime.datetime(2011, 12, 15, 0, 0)}]}\n"
     ]
    }
   ],
   "source": [
    "cursor = db.restaurants.find({\"grades.score\":{\"$gt\":20}}, limit=2)\n",
    "for doc in cursor:\n",
    "    print(doc)"
   ]
  },
  {
   "cell_type": "code",
   "execution_count": 18,
   "metadata": {
    "collapsed": false
   },
   "outputs": [
    {
     "name": "stdout",
     "output_type": "stream",
     "text": [
      "{'borough': 'Brooklyn', 'restaurant_id': '30112340', '_id': ObjectId('5654b1ee419b8cb26f547e81'), 'name': \"Wendy'S\", 'cuisine': 'Hamburgers', 'address': {'coord': [-73.961704, 40.662942], 'zipcode': '11225', 'street': 'Flatbush Avenue', 'building': '469'}, 'grades': [{'score': 8, 'grade': 'A', 'date': datetime.datetime(2014, 12, 30, 0, 0)}, {'score': 23, 'grade': 'B', 'date': datetime.datetime(2014, 7, 1, 0, 0)}, {'grade': 'A', 'score': 12, 'date': datetime.datetime(2013, 4, 30, 0, 0)}, {'score': 12, 'grade': 'A', 'date': datetime.datetime(2012, 5, 8, 0, 0)}]}\n",
      "{'borough': 'Queens', 'restaurant_id': '40356068', '_id': ObjectId('5654b1ee419b8cb26f547e85'), 'name': 'Tov Kosher Kitchen', 'cuisine': 'Jewish/Kosher', 'address': {'coord': [-73.8601152, 40.7311739], 'zipcode': '11374', 'street': '63 Road', 'building': '97-22'}, 'grades': [{'score': 20, 'grade': 'Z', 'date': datetime.datetime(2014, 11, 24, 0, 0)}, {'score': 13, 'grade': 'A', 'date': datetime.datetime(2013, 1, 17, 0, 0)}, {'score': 13, 'grade': 'A', 'date': datetime.datetime(2012, 8, 2, 0, 0)}, {'score': 25, 'grade': 'B', 'date': datetime.datetime(2011, 12, 15, 0, 0)}]}\n"
     ]
    }
   ],
   "source": [
    "cursor = db.restaurants.find({\"grades.score\":{\"$gt\":20, \"$lt\": 50}}, limit=2)\n",
    "for doc in cursor:\n",
    "    print(doc)"
   ]
  },
  {
   "cell_type": "markdown",
   "metadata": {},
   "source": [
    "## By default this is an AND"
   ]
  },
  {
   "cell_type": "code",
   "execution_count": 20,
   "metadata": {
    "collapsed": true
   },
   "outputs": [],
   "source": [
    "cursor = db.restaurants.find({\"cuisine\": \"Italian\", \"address.zipcode\": \"10075\"}, limit=2)"
   ]
  },
  {
   "cell_type": "code",
   "execution_count": 21,
   "metadata": {
    "collapsed": false
   },
   "outputs": [
    {
     "name": "stdout",
     "output_type": "stream",
     "text": [
      "{'borough': 'Manhattan', 'restaurant_id': '40372417', '_id': ObjectId('5654b1ee419b8cb26f547fda'), 'name': 'Don Filippo Restaurant', 'cuisine': 'Italian', 'address': {'coord': [-73.958885, 40.7745559], 'building': '1133', 'street': 'Lexington Avenue', 'zipcode': '10075'}, 'grades': [{'score': 11, 'grade': 'A', 'date': datetime.datetime(2014, 8, 11, 0, 0)}, {'score': 9, 'grade': 'A', 'date': datetime.datetime(2013, 12, 10, 0, 0)}, {'score': 12, 'grade': 'A', 'date': datetime.datetime(2013, 6, 10, 0, 0)}, {'score': 13, 'grade': 'A', 'date': datetime.datetime(2012, 6, 8, 0, 0)}, {'score': 8, 'grade': 'A', 'date': datetime.datetime(2012, 1, 25, 0, 0)}, {'score': 12, 'grade': 'A', 'date': datetime.datetime(2011, 9, 13, 0, 0)}]}\n",
      "{'borough': 'Manhattan', 'restaurant_id': '40376142', '_id': ObjectId('5654b1ee419b8cb26f548028'), 'name': \"Lusardi'S Restaurant\", 'cuisine': 'Italian', 'address': {'coord': [-73.955387, 40.772368], 'building': '1494', 'street': 'Second Avenue', 'zipcode': '10075'}, 'grades': [{'score': 7, 'grade': 'A', 'date': datetime.datetime(2014, 1, 23, 0, 0)}, {'score': 11, 'grade': 'A', 'date': datetime.datetime(2013, 7, 11, 0, 0)}, {'score': 7, 'grade': 'A', 'date': datetime.datetime(2013, 1, 22, 0, 0)}, {'grade': 'A', 'score': 10, 'date': datetime.datetime(2012, 5, 8, 0, 0)}, {'score': 11, 'grade': 'A', 'date': datetime.datetime(2011, 11, 2, 0, 0)}]}\n"
     ]
    }
   ],
   "source": [
    "for doc in cursor:\n",
    "    print(doc)"
   ]
  },
  {
   "cell_type": "markdown",
   "metadata": {},
   "source": [
    "## This is OR"
   ]
  },
  {
   "cell_type": "code",
   "execution_count": 24,
   "metadata": {
    "collapsed": false
   },
   "outputs": [
    {
     "name": "stdout",
     "output_type": "stream",
     "text": [
      "{'borough': 'Brooklyn', 'restaurant_id': '40364305', '_id': ObjectId('5654b1ee419b8cb26f547eb8'), 'name': 'Philadelhia Grille Express', 'cuisine': 'Italian', 'address': {'coord': [-74.03400479999999, 40.6127077], 'zipcode': '11209', 'street': '4 Avenue', 'building': '10004'}, 'grades': [{'score': 12, 'grade': 'A', 'date': datetime.datetime(2014, 2, 25, 0, 0)}, {'score': 7, 'grade': 'A', 'date': datetime.datetime(2013, 6, 27, 0, 0)}, {'score': 10, 'grade': 'A', 'date': datetime.datetime(2012, 12, 3, 0, 0)}, {'score': 12, 'grade': 'A', 'date': datetime.datetime(2011, 11, 9, 0, 0)}]}\n",
      "{'borough': 'Manhattan', 'restaurant_id': '40364373', '_id': ObjectId('5654b1ee419b8cb26f547ebf'), 'name': 'Isle Of Capri Resturant', 'cuisine': 'Italian', 'address': {'coord': [-73.966032, 40.762832], 'building': '1028', 'street': '3 Avenue', 'zipcode': '10065'}, 'grades': [{'score': 13, 'grade': 'A', 'date': datetime.datetime(2014, 9, 16, 0, 0)}, {'score': 10, 'grade': 'A', 'date': datetime.datetime(2014, 2, 24, 0, 0)}, {'score': 10, 'grade': 'A', 'date': datetime.datetime(2013, 5, 3, 0, 0)}, {'score': 7, 'grade': 'A', 'date': datetime.datetime(2012, 8, 20, 0, 0)}, {'grade': 'A', 'score': 9, 'date': datetime.datetime(2012, 2, 13, 0, 0)}]}\n"
     ]
    }
   ],
   "source": [
    "cursor = db.restaurants.find({\"$or\":[{\"cuisine\": \"Italian\"}, {\"address.zipcode\": \"10075\"}]}, limit=2)\n",
    "for doc in cursor:\n",
    "    print(doc)"
   ]
  },
  {
   "cell_type": "markdown",
   "metadata": {},
   "source": [
    "# Sorting"
   ]
  },
  {
   "cell_type": "code",
   "execution_count": 27,
   "metadata": {
    "collapsed": true
   },
   "outputs": [],
   "source": [
    "cursor = db.restaurants.find().sort([(\"grades.score\", pymongo.DESCENDING)])"
   ]
  },
  {
   "cell_type": "code",
   "execution_count": null,
   "metadata": {
    "collapsed": false
   },
   "outputs": [],
   "source": [
    "for doc in cursor:\n",
    "    print(doc)"
   ]
  },
  {
   "cell_type": "markdown",
   "metadata": {},
   "source": [
    "# Insert Stuff"
   ]
  },
  {
   "cell_type": "code",
   "execution_count": 33,
   "metadata": {
    "collapsed": true
   },
   "outputs": [],
   "source": [
    "result = db.restaurants.insert_one(\n",
    "    {\n",
    "        \"name\": \"Bob's Diner\",\n",
    "        \"borough\": \"Manhattan\",\n",
    "        \"cuisine\": \"American\",\n",
    "        \"restaurant_id\": \"41704620666\",\n",
    "    }\n",
    ")"
   ]
  },
  {
   "cell_type": "code",
   "execution_count": 34,
   "metadata": {
    "collapsed": false
   },
   "outputs": [
    {
     "data": {
      "text/plain": [
       "ObjectId('5654b825896fd80d3bfb5270')"
      ]
     },
     "execution_count": 34,
     "metadata": {},
     "output_type": "execute_result"
    }
   ],
   "source": [
    "result.inserted_id"
   ]
  },
  {
   "cell_type": "code",
   "execution_count": 36,
   "metadata": {
    "collapsed": false
   },
   "outputs": [
    {
     "data": {
      "text/plain": [
       "{'_id': ObjectId('5654b825896fd80d3bfb5270'),\n",
       " 'borough': 'Manhattan',\n",
       " 'cuisine': 'American',\n",
       " 'name': \"Bob's Diner\",\n",
       " 'restaurant_id': '41704620666'}"
      ]
     },
     "execution_count": 36,
     "metadata": {},
     "output_type": "execute_result"
    }
   ],
   "source": [
    "db.restaurants.find_one({\"restaurant_id\":\"41704620666\"})"
   ]
  },
  {
   "cell_type": "markdown",
   "metadata": {},
   "source": [
    "# Update Stuff"
   ]
  },
  {
   "cell_type": "code",
   "execution_count": 37,
   "metadata": {
    "collapsed": true
   },
   "outputs": [],
   "source": [
    "result = db.restaurants.update_one(\n",
    "    {\"restaurant_id\":\"41704620666\"},\n",
    "    {\"$set\": {\"name\": \"Bob's Burgers\", \"cuisine\":\"BBQ\"}}\n",
    ")"
   ]
  },
  {
   "cell_type": "code",
   "execution_count": 38,
   "metadata": {
    "collapsed": false
   },
   "outputs": [
    {
     "data": {
      "text/plain": [
       "1"
      ]
     },
     "execution_count": 38,
     "metadata": {},
     "output_type": "execute_result"
    }
   ],
   "source": [
    "result.modified_count"
   ]
  },
  {
   "cell_type": "code",
   "execution_count": 39,
   "metadata": {
    "collapsed": false
   },
   "outputs": [
    {
     "data": {
      "text/plain": [
       "{'_id': ObjectId('5654b825896fd80d3bfb5270'),\n",
       " 'borough': 'Manhattan',\n",
       " 'cuisine': 'BBQ',\n",
       " 'name': \"Bob's Burgers\",\n",
       " 'restaurant_id': '41704620666'}"
      ]
     },
     "execution_count": 39,
     "metadata": {},
     "output_type": "execute_result"
    }
   ],
   "source": [
    "db.restaurants.find_one({\"restaurant_id\":\"41704620666\"})"
   ]
  },
  {
   "cell_type": "markdown",
   "metadata": {},
   "source": [
    "# Delete Stuff"
   ]
  },
  {
   "cell_type": "code",
   "execution_count": 40,
   "metadata": {
    "collapsed": true
   },
   "outputs": [],
   "source": [
    "result = db.restaurants.delete_one({\"restaurant_id\":\"41704620666\"})"
   ]
  },
  {
   "cell_type": "code",
   "execution_count": 41,
   "metadata": {
    "collapsed": false
   },
   "outputs": [
    {
     "data": {
      "text/plain": [
       "1"
      ]
     },
     "execution_count": 41,
     "metadata": {},
     "output_type": "execute_result"
    }
   ],
   "source": [
    "result.deleted_count"
   ]
  },
  {
   "cell_type": "code",
   "execution_count": 42,
   "metadata": {
    "collapsed": true
   },
   "outputs": [],
   "source": [
    "db.restaurants.find_one({\"restaurant_id\":\"41704620666\"})"
   ]
  },
  {
   "cell_type": "markdown",
   "metadata": {},
   "source": [
    "# Aggregation"
   ]
  },
  {
   "cell_type": "code",
   "execution_count": 47,
   "metadata": {
    "collapsed": true
   },
   "outputs": [],
   "source": [
    "cursor = db.restaurants.aggregate(\n",
    "    [\n",
    "        {\"$match\": {\"borough\": \"Queens\", \"cuisine\": \"Brazilian\"}},\n",
    "        {\"$group\": {\"_id\": \"$address.zipcode\", \"count\": {\"$sum\": 1}}}\n",
    "    ]\n",
    ")"
   ]
  },
  {
   "cell_type": "code",
   "execution_count": 48,
   "metadata": {
    "collapsed": false
   },
   "outputs": [
    {
     "name": "stdout",
     "output_type": "stream",
     "text": [
      "{'_id': '11377', 'count': 1}\n",
      "{'_id': '11368', 'count': 1}\n",
      "{'_id': '11101', 'count': 2}\n",
      "{'_id': '11106', 'count': 3}\n",
      "{'_id': '11103', 'count': 1}\n"
     ]
    }
   ],
   "source": [
    "for doc in cursor:\n",
    "    print(doc)"
   ]
  },
  {
   "cell_type": "code",
   "execution_count": 49,
   "metadata": {
    "collapsed": true
   },
   "outputs": [],
   "source": [
    "temp_db = client['temp']"
   ]
  },
  {
   "cell_type": "code",
   "execution_count": 50,
   "metadata": {
    "collapsed": true
   },
   "outputs": [],
   "source": [
    "result = temp_db.foo.insert_one(\n",
    "    {\n",
    "        \"name\":\"hello\",\n",
    "        \"when\": \"now\",\n",
    "        \"where\": \"right here\"\n",
    "    }\n",
    ")"
   ]
  },
  {
   "cell_type": "code",
   "execution_count": 51,
   "metadata": {
    "collapsed": false
   },
   "outputs": [
    {
     "data": {
      "text/plain": [
       "ObjectId('5654be96896fd80d3bfb5271')"
      ]
     },
     "execution_count": 51,
     "metadata": {},
     "output_type": "execute_result"
    }
   ],
   "source": [
    "result.inserted_id"
   ]
  },
  {
   "cell_type": "code",
   "execution_count": 52,
   "metadata": {
    "collapsed": true
   },
   "outputs": [],
   "source": [
    "cursor = temp_db.foo.find({})"
   ]
  },
  {
   "cell_type": "code",
   "execution_count": 53,
   "metadata": {
    "collapsed": false
   },
   "outputs": [
    {
     "name": "stdout",
     "output_type": "stream",
     "text": [
      "{'when': 'now', 'where': 'right here', '_id': ObjectId('5654be96896fd80d3bfb5271'), 'name': 'hello'}\n"
     ]
    }
   ],
   "source": [
    "for doc in cursor:\n",
    "    print(doc)"
   ]
  },
  {
   "cell_type": "code",
   "execution_count": null,
   "metadata": {
    "collapsed": true
   },
   "outputs": [],
   "source": []
  }
 ],
 "metadata": {
  "kernelspec": {
   "display_name": "Python 3",
   "language": "python",
   "name": "python3"
  },
  "language_info": {
   "codemirror_mode": {
    "name": "ipython",
    "version": 3
   },
   "file_extension": ".py",
   "mimetype": "text/x-python",
   "name": "python",
   "nbconvert_exporter": "python",
   "pygments_lexer": "ipython3",
   "version": "3.5.0"
  }
 },
 "nbformat": 4,
 "nbformat_minor": 0
}
