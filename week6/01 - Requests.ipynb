{
 "cells": [
  {
   "cell_type": "markdown",
   "metadata": {},
   "source": [
    "# Consuming APIs\n",
    "\n",
    "One side of the API story is utilizing an API to accomplish your task at hand. Think of an API service as a \"database over the web\" - you won't always have all of the data you need on hand but that shouldn't stop you from utlizing it. Alot of types of info can be retrieved over an API.\n",
    "\n",
    "* Weather Data\n",
    "* Traffic Data\n",
    "* Demographic Data\n",
    "* Star Wars trivia data\n",
    "* Movie Data\n",
    "* Sports Data\n",
    "\n",
    "Obviously there is a lot of great information out there that you can access - so lets get started utilizing The Star Wars Api (tm)\n",
    "\n",
    "The `requests` library is the core of our \"API Client\""
   ]
  },
  {
   "cell_type": "code",
   "execution_count": 1,
   "metadata": {
    "collapsed": true
   },
   "outputs": [],
   "source": [
    "import requests"
   ]
  },
  {
   "cell_type": "markdown",
   "metadata": {},
   "source": [
    "To \"request\" data with the get verb just call the get method on the requests module with the URL."
   ]
  },
  {
   "cell_type": "code",
   "execution_count": 2,
   "metadata": {
    "collapsed": true
   },
   "outputs": [],
   "source": [
    "response = requests.get(\"http://swapi.co/api/people/4/\")"
   ]
  },
  {
   "cell_type": "code",
   "execution_count": 3,
   "metadata": {
    "collapsed": false
   },
   "outputs": [
    {
     "data": {
      "text/plain": [
       "<Response [200]>"
      ]
     },
     "execution_count": 3,
     "metadata": {},
     "output_type": "execute_result"
    }
   ],
   "source": [
    "response"
   ]
  },
  {
   "cell_type": "code",
   "execution_count": 4,
   "metadata": {
    "collapsed": false,
    "scrolled": true
   },
   "outputs": [
    {
     "data": {
      "text/plain": [
       "b'{\"name\":\"Darth Vader\",\"height\":\"202\",\"mass\":\"136\",\"hair_color\":\"none\",\"skin_color\":\"white\",\"eye_color\":\"yellow\",\"birth_year\":\"41.9BBY\",\"gender\":\"male\",\"homeworld\":\"http://swapi.co/api/planets/1/\",\"films\":[\"http://swapi.co/api/films/6/\",\"http://swapi.co/api/films/3/\",\"http://swapi.co/api/films/2/\",\"http://swapi.co/api/films/1/\"],\"species\":[\"http://swapi.co/api/species/1/\"],\"vehicles\":[],\"starships\":[\"http://swapi.co/api/starships/13/\"],\"created\":\"2014-12-10T15:18:20.704000Z\",\"edited\":\"2014-12-20T21:17:50.313000Z\",\"url\":\"http://swapi.co/api/people/4/\"}'"
      ]
     },
     "execution_count": 4,
     "metadata": {},
     "output_type": "execute_result"
    }
   ],
   "source": [
    "response.content"
   ]
  },
  {
   "cell_type": "markdown",
   "metadata": {},
   "source": [
    "Notice that there aren't any HTML tags! Neat. This is like asking a website for a piece of data - or asking a website to make a database call for you!\n",
    "\n",
    "To interpret the data coming over we can use the json library. The json library serves many purposes but the 2 most important are to:\n",
    "\n",
    "* loads -> converts a json string of information into a dict/list (aka native python object\n",
    "* dumps -> converts a native python object (dict/list) into a string in order to send it \"over the wire\""
   ]
  },
  {
   "cell_type": "code",
   "execution_count": 5,
   "metadata": {
    "collapsed": true
   },
   "outputs": [],
   "source": [
    "import json"
   ]
  },
  {
   "cell_type": "code",
   "execution_count": 6,
   "metadata": {
    "collapsed": true
   },
   "outputs": [],
   "source": [
    "simple_info = [{\"name\":\"Back to the Future\", \"id\":42, \"year\":1985}]"
   ]
  },
  {
   "cell_type": "code",
   "execution_count": 7,
   "metadata": {
    "collapsed": false
   },
   "outputs": [
    {
     "data": {
      "text/plain": [
       "[{'id': 42, 'name': 'Back to the Future', 'year': 1985}]"
      ]
     },
     "execution_count": 7,
     "metadata": {},
     "output_type": "execute_result"
    }
   ],
   "source": [
    "simple_info"
   ]
  },
  {
   "cell_type": "code",
   "execution_count": 8,
   "metadata": {
    "collapsed": false
   },
   "outputs": [
    {
     "name": "stdout",
     "output_type": "stream",
     "text": [
      "<class 'list'>\n"
     ]
    }
   ],
   "source": [
    "print(type(simple_info))"
   ]
  },
  {
   "cell_type": "code",
   "execution_count": 9,
   "metadata": {
    "collapsed": true
   },
   "outputs": [],
   "source": [
    "serialized_info = json.dumps(simple_info)"
   ]
  },
  {
   "cell_type": "code",
   "execution_count": 10,
   "metadata": {
    "collapsed": false
   },
   "outputs": [
    {
     "name": "stdout",
     "output_type": "stream",
     "text": [
      "[{\"id\": 42, \"year\": 1985, \"name\": \"Back to the Future\"}]\n"
     ]
    }
   ],
   "source": [
    "print(serialized_info)"
   ]
  },
  {
   "cell_type": "code",
   "execution_count": 11,
   "metadata": {
    "collapsed": false
   },
   "outputs": [
    {
     "name": "stdout",
     "output_type": "stream",
     "text": [
      "<class 'str'>\n"
     ]
    }
   ],
   "source": [
    "print(type(serialized_info))"
   ]
  },
  {
   "cell_type": "markdown",
   "metadata": {},
   "source": [
    "But thanks to requests being an awesome library, maybe we can ask for the json right on the response object."
   ]
  },
  {
   "cell_type": "code",
   "execution_count": 12,
   "metadata": {
    "collapsed": false
   },
   "outputs": [
    {
     "data": {
      "text/plain": [
       "{'birth_year': '41.9BBY',\n",
       " 'created': '2014-12-10T15:18:20.704000Z',\n",
       " 'edited': '2014-12-20T21:17:50.313000Z',\n",
       " 'eye_color': 'yellow',\n",
       " 'films': ['http://swapi.co/api/films/6/',\n",
       "  'http://swapi.co/api/films/3/',\n",
       "  'http://swapi.co/api/films/2/',\n",
       "  'http://swapi.co/api/films/1/'],\n",
       " 'gender': 'male',\n",
       " 'hair_color': 'none',\n",
       " 'height': '202',\n",
       " 'homeworld': 'http://swapi.co/api/planets/1/',\n",
       " 'mass': '136',\n",
       " 'name': 'Darth Vader',\n",
       " 'skin_color': 'white',\n",
       " 'species': ['http://swapi.co/api/species/1/'],\n",
       " 'starships': ['http://swapi.co/api/starships/13/'],\n",
       " 'url': 'http://swapi.co/api/people/4/',\n",
       " 'vehicles': []}"
      ]
     },
     "execution_count": 12,
     "metadata": {},
     "output_type": "execute_result"
    }
   ],
   "source": [
    "response.json()"
   ]
  },
  {
   "cell_type": "code",
   "execution_count": 13,
   "metadata": {
    "collapsed": false
   },
   "outputs": [
    {
     "data": {
      "text/plain": [
       "dict"
      ]
     },
     "execution_count": 13,
     "metadata": {},
     "output_type": "execute_result"
    }
   ],
   "source": [
    "type(response.json())"
   ]
  },
  {
   "cell_type": "code",
   "execution_count": 14,
   "metadata": {
    "collapsed": true
   },
   "outputs": [],
   "source": [
    "vader = response.json()"
   ]
  },
  {
   "cell_type": "code",
   "execution_count": 15,
   "metadata": {
    "collapsed": false
   },
   "outputs": [
    {
     "data": {
      "text/plain": [
       "['http://swapi.co/api/films/6/',\n",
       " 'http://swapi.co/api/films/3/',\n",
       " 'http://swapi.co/api/films/2/',\n",
       " 'http://swapi.co/api/films/1/']"
      ]
     },
     "execution_count": 15,
     "metadata": {},
     "output_type": "execute_result"
    }
   ],
   "source": [
    "vader['films']"
   ]
  },
  {
   "cell_type": "code",
   "execution_count": 16,
   "metadata": {
    "collapsed": false
   },
   "outputs": [
    {
     "name": "stdout",
     "output_type": "stream",
     "text": [
      "Revenge of the Sith\n",
      "Return of the Jedi\n",
      "The Empire Strikes Back\n",
      "A New Hope\n"
     ]
    }
   ],
   "source": [
    "for film in vader['films']:\n",
    "    print(requests.get(film).json()['title'])"
   ]
  },
  {
   "cell_type": "code",
   "execution_count": 17,
   "metadata": {
    "collapsed": true
   },
   "outputs": [],
   "source": [
    "# these were removed to protect account information\n",
    "SID = ''\n",
    "SECRET = ''"
   ]
  },
  {
   "cell_type": "code",
   "execution_count": 18,
   "metadata": {
    "collapsed": true
   },
   "outputs": [],
   "source": [
    "data = {\"Body\": \"This is a test of twilio\", \"From\":\"+17023187997\", \"To\":\"+17026124686\"}"
   ]
  },
  {
   "cell_type": "code",
   "execution_count": 19,
   "metadata": {
    "collapsed": true
   },
   "outputs": [],
   "source": [
    "from requests.auth import HTTPBasicAuth"
   ]
  },
  {
   "cell_type": "code",
   "execution_count": 20,
   "metadata": {
    "collapsed": true
   },
   "outputs": [],
   "source": [
    "requests.post?"
   ]
  },
  {
   "cell_type": "code",
   "execution_count": 22,
   "metadata": {
    "collapsed": false
   },
   "outputs": [],
   "source": [
    "response = requests.post(\"https://api.twilio.com/2010-04-01/Accounts/ACf5621a7aa589028f8599c048067ab692/Messages.json\",\n",
    "                        data=data, auth=HTTPBasicAuth(SID, SECRET))"
   ]
  },
  {
   "cell_type": "code",
   "execution_count": 23,
   "metadata": {
    "collapsed": true
   },
   "outputs": [],
   "source": [
    "for i in range(10):\n",
    "    response = requests.post(\"https://api.twilio.com/2010-04-01/Accounts/ACf5621a7aa589028f8599c048067ab692/Messages.json\",\n",
    "                        data=data, auth=HTTPBasicAuth(SID, SECRET))"
   ]
  },
  {
   "cell_type": "code",
   "execution_count": 24,
   "metadata": {
    "collapsed": false
   },
   "outputs": [
    {
     "data": {
      "text/plain": [
       "b'{\"sid\": \"SM8b721f3ff68d427c8ec3216c511e83e2\", \"date_created\": \"Mon, 09 Nov 2015 19:00:39 +0000\", \"date_updated\": \"Mon, 09 Nov 2015 19:00:39 +0000\", \"date_sent\": null, \"account_sid\": \"ACf5621a7aa589028f8599c048067ab692\", \"to\": \"+17026124686\", \"from\": \"+17023187997\", \"messaging_service_sid\": null, \"body\": \"This is a test of twilio\", \"status\": \"queued\", \"num_segments\": \"1\", \"num_media\": \"0\", \"direction\": \"outbound-api\", \"api_version\": \"2010-04-01\", \"price\": null, \"price_unit\": \"USD\", \"error_code\": null, \"error_message\": null, \"uri\": \"/2010-04-01/Accounts/ACf5621a7aa589028f8599c048067ab692/Messages/SM8b721f3ff68d427c8ec3216c511e83e2.json\", \"subresource_uris\": {\"media\": \"/2010-04-01/Accounts/ACf5621a7aa589028f8599c048067ab692/Messages/SM8b721f3ff68d427c8ec3216c511e83e2/Media.json\"}}'"
      ]
     },
     "execution_count": 24,
     "metadata": {},
     "output_type": "execute_result"
    }
   ],
   "source": [
    "response.content"
   ]
  },
  {
   "cell_type": "code",
   "execution_count": 29,
   "metadata": {
    "collapsed": true
   },
   "outputs": [],
   "source": [
    "response2 = requests.get('https://api.twilio.com/2010-04-01/Accounts/ACf5621a7aa589028f8599c048067ab692/Messages/SM8b721f3ff68d427c8ec3216c511e83e2.json',\n",
    "                        auth=HTTPBasicAuth(SID, SECRET))"
   ]
  },
  {
   "cell_type": "code",
   "execution_count": 30,
   "metadata": {
    "collapsed": false
   },
   "outputs": [
    {
     "data": {
      "text/plain": [
       "b'{\"sid\": \"SM8b721f3ff68d427c8ec3216c511e83e2\", \"date_created\": \"Mon, 09 Nov 2015 19:00:39 +0000\", \"date_updated\": \"Mon, 09 Nov 2015 19:00:45 +0000\", \"date_sent\": \"Mon, 09 Nov 2015 19:00:45 +0000\", \"account_sid\": \"ACf5621a7aa589028f8599c048067ab692\", \"to\": \"+17026124686\", \"from\": \"+17023187997\", \"messaging_service_sid\": null, \"body\": \"This is a test of twilio\", \"status\": \"delivered\", \"num_segments\": \"1\", \"num_media\": \"0\", \"direction\": \"outbound-api\", \"api_version\": \"2010-04-01\", \"price\": \"-0.00750\", \"price_unit\": \"USD\", \"error_code\": null, \"error_message\": null, \"uri\": \"/2010-04-01/Accounts/ACf5621a7aa589028f8599c048067ab692/Messages/SM8b721f3ff68d427c8ec3216c511e83e2.json\", \"subresource_uris\": {\"media\": \"/2010-04-01/Accounts/ACf5621a7aa589028f8599c048067ab692/Messages/SM8b721f3ff68d427c8ec3216c511e83e2/Media.json\"}}'"
      ]
     },
     "execution_count": 30,
     "metadata": {},
     "output_type": "execute_result"
    }
   ],
   "source": [
    "response2.content"
   ]
  },
  {
   "cell_type": "code",
   "execution_count": null,
   "metadata": {
    "collapsed": true
   },
   "outputs": [],
   "source": []
  }
 ],
 "metadata": {
  "kernelspec": {
   "display_name": "Python 3",
   "language": "python",
   "name": "python3"
  },
  "language_info": {
   "codemirror_mode": {
    "name": "ipython",
    "version": 3
   },
   "file_extension": ".py",
   "mimetype": "text/x-python",
   "name": "python",
   "nbconvert_exporter": "python",
   "pygments_lexer": "ipython3",
   "version": "3.5.0"
  }
 },
 "nbformat": 4,
 "nbformat_minor": 0
}
