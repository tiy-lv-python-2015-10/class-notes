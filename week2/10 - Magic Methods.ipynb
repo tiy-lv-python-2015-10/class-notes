{
 "cells": [
  {
   "cell_type": "markdown",
   "metadata": {},
   "source": [
    "# Magic Methods "
   ]
  },
  {
   "cell_type": "markdown",
   "metadata": {},
   "source": [
    "Python has a host of magic methods that allow you to make your objects easier to use."
   ]
  },
  {
   "cell_type": "code",
   "execution_count": 1,
   "metadata": {
    "collapsed": true
   },
   "outputs": [],
   "source": [
    "class Person:\n",
    "    name = \"Bob\"\n",
    "    email = \"bob@bob.com\""
   ]
  },
  {
   "cell_type": "code",
   "execution_count": 2,
   "metadata": {
    "collapsed": false
   },
   "outputs": [
    {
     "data": {
      "text/plain": [
       "['__class__',\n",
       " '__delattr__',\n",
       " '__dict__',\n",
       " '__dir__',\n",
       " '__doc__',\n",
       " '__eq__',\n",
       " '__format__',\n",
       " '__ge__',\n",
       " '__getattribute__',\n",
       " '__gt__',\n",
       " '__hash__',\n",
       " '__init__',\n",
       " '__le__',\n",
       " '__lt__',\n",
       " '__module__',\n",
       " '__ne__',\n",
       " '__new__',\n",
       " '__reduce__',\n",
       " '__reduce_ex__',\n",
       " '__repr__',\n",
       " '__setattr__',\n",
       " '__sizeof__',\n",
       " '__str__',\n",
       " '__subclasshook__',\n",
       " '__weakref__',\n",
       " 'email',\n",
       " 'name']"
      ]
     },
     "execution_count": 2,
     "metadata": {},
     "output_type": "execute_result"
    }
   ],
   "source": [
    "dir(Person)"
   ]
  },
  {
   "cell_type": "markdown",
   "metadata": {},
   "source": [
    "## Object Lifecycle\n",
    "There are 3 major methods on a class for its creation and destruction\n",
    "* ```__new__```: Actually creates the object instance and calls ```__init__```\n",
    "* ```__init__```: Most commonly used to pass in variables\n",
    "* ```__del__```: Part of the deconstructor to clean up object before destruction"
   ]
  },
  {
   "cell_type": "code",
   "execution_count": 3,
   "metadata": {
    "collapsed": true
   },
   "outputs": [],
   "source": [
    "class Card:\n",
    "    def __init__(self, suit, rank):\n",
    "        self.suit = suit\n",
    "        self.rank = rank\n",
    "    \n",
    "    def value(self):\n",
    "        if rank == 'A':\n",
    "            return 11\n",
    "        elif rank in ['K', 'J', 'Q']:\n",
    "            return 10\n",
    "        else:\n",
    "            return rank\n",
    "        \n",
    "class Deck:\n",
    "    def __init__(self):\n",
    "        suits = ['Diamond', 'Spade', 'Heart', 'Club']\n",
    "        ranks = [1,2,3,4,5,6,7,8,9,10,'J','Q','K','A']\n",
    "        \n",
    "        self.cards = [Card(suit, rank) for rank in ranks for suit in suits]\n",
    "    \n",
    "    def __del__(self):\n",
    "        self.cards = None"
   ]
  },
  {
   "cell_type": "code",
   "execution_count": 4,
   "metadata": {
    "collapsed": true
   },
   "outputs": [],
   "source": [
    "deck = Deck()"
   ]
  },
  {
   "cell_type": "code",
   "execution_count": 9,
   "metadata": {
    "collapsed": false
   },
   "outputs": [],
   "source": [
    "deck = \"Hello\" #The original deck object has no references to it so the garbage collection will find it call __del__"
   ]
  },
  {
   "cell_type": "code",
   "execution_count": 10,
   "metadata": {
    "collapsed": true
   },
   "outputs": [],
   "source": [
    "deck = Deck()\n",
    "foo = deck\n",
    "bar = deck"
   ]
  },
  {
   "cell_type": "code",
   "execution_count": 11,
   "metadata": {
    "collapsed": true
   },
   "outputs": [],
   "source": [
    "deck = \"Hello\" # foo and bar still know about deck so it lives on"
   ]
  },
  {
   "cell_type": "markdown",
   "metadata": {},
   "source": [
    "## Str and Repr\n",
    "These two functions serve two different purposes.\n",
    "* ```__str__```: Pretty print.  This is called whenever anything needs to convert to a string\n",
    "* ```__repr__```: machine readable. This is intended to reproduce the object."
   ]
  },
  {
   "cell_type": "code",
   "execution_count": 12,
   "metadata": {
    "collapsed": true
   },
   "outputs": [],
   "source": [
    "class Card:\n",
    "    def __init__(self, suit, rank):\n",
    "        self.suit = suit\n",
    "        self.rank = rank\n",
    "    \n",
    "    def value(self):\n",
    "        if rank == 'A':\n",
    "            return 11\n",
    "        elif rank in ['K', 'J', 'Q']:\n",
    "            return 10\n",
    "        else:\n",
    "            return rank\n",
    "        \n",
    "    def __str__(self):\n",
    "        return \"{} of {}s\".format(self.rank, self.suit)\n",
    "    \n",
    "    def __repr__(self):\n",
    "        return \"Card('{}', '{}')\".format(self.suit, self.rank)"
   ]
  },
  {
   "cell_type": "code",
   "execution_count": 13,
   "metadata": {
    "collapsed": true
   },
   "outputs": [],
   "source": [
    "card = Card(\"Spade\", \"A\")"
   ]
  },
  {
   "cell_type": "code",
   "execution_count": 14,
   "metadata": {
    "collapsed": false
   },
   "outputs": [
    {
     "name": "stdout",
     "output_type": "stream",
     "text": [
      "A of Spades\n"
     ]
    }
   ],
   "source": [
    "print(card)"
   ]
  },
  {
   "cell_type": "code",
   "execution_count": 15,
   "metadata": {
    "collapsed": false
   },
   "outputs": [
    {
     "data": {
      "text/plain": [
       "Card('Spade', 'A')"
      ]
     },
     "execution_count": 15,
     "metadata": {},
     "output_type": "execute_result"
    }
   ],
   "source": [
    "card"
   ]
  },
  {
   "cell_type": "code",
   "execution_count": 17,
   "metadata": {
    "collapsed": false
   },
   "outputs": [
    {
     "data": {
      "text/plain": [
       "Card('Spade', 'A')"
      ]
     },
     "execution_count": 17,
     "metadata": {},
     "output_type": "execute_result"
    }
   ],
   "source": [
    "eval(card.__repr__()) # Avoid using this"
   ]
  },
  {
   "cell_type": "markdown",
   "metadata": {},
   "source": [
    "## Comparison Methods\n",
    "These methods control all comparison such as ==, <=, != etc.  Very useful when classes need to be compared but are not simple.\n",
    "\n",
    "Examples:\n",
    "* ```__cmp__```: This no longer works in 3.X\n",
    "* ```__eq__```: equals\n",
    "* ```__ne__```: not equals\n",
    "* ```__le__```: less than or equal\n",
    "* ```__lt__```: less than\n",
    "* ```__gt__```: greater than\n",
    "* ```__ge__```: greater than or equal"
   ]
  },
  {
   "cell_type": "code",
   "execution_count": 18,
   "metadata": {
    "collapsed": false
   },
   "outputs": [
    {
     "data": {
      "text/plain": [
       "True"
      ]
     },
     "execution_count": 18,
     "metadata": {},
     "output_type": "execute_result"
    }
   ],
   "source": [
    "1 < 2"
   ]
  },
  {
   "cell_type": "code",
   "execution_count": 19,
   "metadata": {
    "collapsed": true
   },
   "outputs": [],
   "source": [
    "ace_of_spades = Card(\"Spade\", \"A\")\n",
    "two_of_spades = Card(\"Spade\", \"2\")"
   ]
  },
  {
   "cell_type": "code",
   "execution_count": 20,
   "metadata": {
    "collapsed": false
   },
   "outputs": [
    {
     "ename": "TypeError",
     "evalue": "unorderable types: Card() < Card()",
     "output_type": "error",
     "traceback": [
      "\u001b[0;31m---------------------------------------------------------------------------\u001b[0m",
      "\u001b[0;31mTypeError\u001b[0m                                 Traceback (most recent call last)",
      "\u001b[0;32m<ipython-input-20-05b4d54b320d>\u001b[0m in \u001b[0;36m<module>\u001b[0;34m()\u001b[0m\n\u001b[0;32m----> 1\u001b[0;31m \u001b[0mace_of_spades\u001b[0m \u001b[0;34m<\u001b[0m \u001b[0mtwo_of_spades\u001b[0m\u001b[0;34m\u001b[0m\u001b[0m\n\u001b[0m",
      "\u001b[0;31mTypeError\u001b[0m: unorderable types: Card() < Card()"
     ]
    }
   ],
   "source": [
    "ace_of_spades < two_of_spades"
   ]
  },
  {
   "cell_type": "code",
   "execution_count": 21,
   "metadata": {
    "collapsed": false
   },
   "outputs": [
    {
     "data": {
      "text/plain": [
       "False"
      ]
     },
     "execution_count": 21,
     "metadata": {},
     "output_type": "execute_result"
    }
   ],
   "source": [
    "str(ace_of_spades) < str(two_of_spades)"
   ]
  },
  {
   "cell_type": "code",
   "execution_count": 31,
   "metadata": {
    "collapsed": true
   },
   "outputs": [],
   "source": [
    "class Card:\n",
    "    def __init__(self, suit, rank):\n",
    "        self.suit = suit\n",
    "        self.rank = rank\n",
    "    \n",
    "    def value(self):\n",
    "        if self.rank == 'A':\n",
    "            return 11\n",
    "        elif self.rank in ['K', 'J', 'Q']:\n",
    "            return 10\n",
    "        else:\n",
    "            return int(self.rank)\n",
    "        \n",
    "    def __str__(self):\n",
    "        return \"{} of {}s\".format(self.rank, self.suit)\n",
    "    \n",
    "    def __repr__(self):\n",
    "        return \"Card('{}', '{}')\".format(self.suit, self.rank)\n",
    "    \n",
    "    def __lt__(self, other):\n",
    "        return self.value() < other.value()"
   ]
  },
  {
   "cell_type": "code",
   "execution_count": 32,
   "metadata": {
    "collapsed": true
   },
   "outputs": [],
   "source": [
    "ace_of_spades = Card(\"Spade\", \"A\")\n",
    "two_of_spades = Card(\"Spade\", \"2\")"
   ]
  },
  {
   "cell_type": "code",
   "execution_count": 33,
   "metadata": {
    "collapsed": false
   },
   "outputs": [
    {
     "data": {
      "text/plain": [
       "False"
      ]
     },
     "execution_count": 33,
     "metadata": {},
     "output_type": "execute_result"
    }
   ],
   "source": [
    "ace_of_spades < two_of_spades"
   ]
  },
  {
   "cell_type": "code",
   "execution_count": 34,
   "metadata": {
    "collapsed": false,
    "scrolled": true
   },
   "outputs": [
    {
     "data": {
      "text/plain": [
       "True"
      ]
     },
     "execution_count": 34,
     "metadata": {},
     "output_type": "execute_result"
    }
   ],
   "source": [
    "ace_of_spades > two_of_spades"
   ]
  },
  {
   "cell_type": "code",
   "execution_count": null,
   "metadata": {
    "collapsed": true
   },
   "outputs": [],
   "source": [
    "ace_of_spades == two_of_spades"
   ]
  },
  {
   "cell_type": "markdown",
   "metadata": {},
   "source": [
    "## Math with objects\n",
    "Classes can have their own math as well to allow for addition type of operations\n",
    "* ```__add__```\n",
    "* ```__mul__```\n",
    "* ```__sub__```\n",
    "* ```__mod__```\n",
    "* etc"
   ]
  },
  {
   "cell_type": "code",
   "execution_count": 37,
   "metadata": {
    "collapsed": true
   },
   "outputs": [],
   "source": [
    "class Drink:\n",
    "    def __init__(self, ingredients):\n",
    "        \"\"\" Ingredients should be a list of items \"\"\"\n",
    "        self.ingredients = ingredients\n",
    "        \n",
    "    def __add__(self, other):\n",
    "        return Drink(self.ingredients + other.ingredients)\n",
    "    \n",
    "    def __str__(self):\n",
    "        return str(self.ingredients)"
   ]
  },
  {
   "cell_type": "code",
   "execution_count": 38,
   "metadata": {
    "collapsed": true
   },
   "outputs": [],
   "source": [
    "mamosa = Drink(['Orange Juice', 'Champagne'])\n",
    "fuzzy_navel = Drink(['Peach Schnapps', 'Orange Juice'])\n",
    "mixed = mamosa + fuzzy_navel"
   ]
  },
  {
   "cell_type": "code",
   "execution_count": 39,
   "metadata": {
    "collapsed": false
   },
   "outputs": [
    {
     "name": "stdout",
     "output_type": "stream",
     "text": [
      "['Orange Juice', 'Champagne', 'Peach Schnapps', 'Orange Juice']\n"
     ]
    }
   ],
   "source": [
    "print(mixed)"
   ]
  },
  {
   "cell_type": "code",
   "execution_count": 40,
   "metadata": {
    "collapsed": false,
    "scrolled": true
   },
   "outputs": [
    {
     "ename": "AttributeError",
     "evalue": "'list' object has no attribute 'ingredients'",
     "output_type": "error",
     "traceback": [
      "\u001b[0;31m---------------------------------------------------------------------------\u001b[0m",
      "\u001b[0;31mAttributeError\u001b[0m                            Traceback (most recent call last)",
      "\u001b[0;32m<ipython-input-40-738ab766d111>\u001b[0m in \u001b[0;36m<module>\u001b[0;34m()\u001b[0m\n\u001b[0;32m----> 1\u001b[0;31m \u001b[0mmamosa\u001b[0m \u001b[0;34m+\u001b[0m \u001b[0;34m[\u001b[0m\u001b[0;34m'Vodka'\u001b[0m\u001b[0;34m]\u001b[0m\u001b[0;34m\u001b[0m\u001b[0m\n\u001b[0m",
      "\u001b[0;32m<ipython-input-37-504587f9876c>\u001b[0m in \u001b[0;36m__add__\u001b[0;34m(self, other)\u001b[0m\n\u001b[1;32m      5\u001b[0m \u001b[0;34m\u001b[0m\u001b[0m\n\u001b[1;32m      6\u001b[0m     \u001b[0;32mdef\u001b[0m \u001b[0m__add__\u001b[0m\u001b[0;34m(\u001b[0m\u001b[0mself\u001b[0m\u001b[0;34m,\u001b[0m \u001b[0mother\u001b[0m\u001b[0;34m)\u001b[0m\u001b[0;34m:\u001b[0m\u001b[0;34m\u001b[0m\u001b[0m\n\u001b[0;32m----> 7\u001b[0;31m         \u001b[0;32mreturn\u001b[0m \u001b[0mDrink\u001b[0m\u001b[0;34m(\u001b[0m\u001b[0mself\u001b[0m\u001b[0;34m.\u001b[0m\u001b[0mingredients\u001b[0m \u001b[0;34m+\u001b[0m \u001b[0mother\u001b[0m\u001b[0;34m.\u001b[0m\u001b[0mingredients\u001b[0m\u001b[0;34m)\u001b[0m\u001b[0;34m\u001b[0m\u001b[0m\n\u001b[0m\u001b[1;32m      8\u001b[0m \u001b[0;34m\u001b[0m\u001b[0m\n\u001b[1;32m      9\u001b[0m     \u001b[0;32mdef\u001b[0m \u001b[0m__str__\u001b[0m\u001b[0;34m(\u001b[0m\u001b[0mself\u001b[0m\u001b[0;34m)\u001b[0m\u001b[0;34m:\u001b[0m\u001b[0;34m\u001b[0m\u001b[0m\n",
      "\u001b[0;31mAttributeError\u001b[0m: 'list' object has no attribute 'ingredients'"
     ]
    }
   ],
   "source": [
    "mamosa + ['Vodka']"
   ]
  },
  {
   "cell_type": "markdown",
   "metadata": {},
   "source": [
    "You can even implement an add with assignment"
   ]
  },
  {
   "cell_type": "code",
   "execution_count": 41,
   "metadata": {
    "collapsed": true
   },
   "outputs": [],
   "source": [
    "class Drink:\n",
    "    def __init__(self, ingredients):\n",
    "        \"\"\" Ingredients should be a list of items\"\"\"\n",
    "        self.ingredients = ingredients\n",
    "        \n",
    "    def __iadd__(self, other):\n",
    "        self.ingredients.extend(other.ingredients)\n",
    "        return self"
   ]
  },
  {
   "cell_type": "code",
   "execution_count": 42,
   "metadata": {
    "collapsed": true
   },
   "outputs": [],
   "source": [
    "mamosa = Drink(['Orange Juice', 'Champagne'])\n",
    "fuzzy_navel = Drink(['Peach Schnapps', 'Orange Juice'])"
   ]
  },
  {
   "cell_type": "code",
   "execution_count": 43,
   "metadata": {
    "collapsed": true
   },
   "outputs": [],
   "source": [
    "mamosa += fuzzy_navel"
   ]
  },
  {
   "cell_type": "code",
   "execution_count": 44,
   "metadata": {
    "collapsed": false
   },
   "outputs": [
    {
     "data": {
      "text/plain": [
       "['Orange Juice', 'Champagne', 'Peach Schnapps', 'Orange Juice']"
      ]
     },
     "execution_count": 44,
     "metadata": {},
     "output_type": "execute_result"
    }
   ],
   "source": [
    "mamosa.ingredients"
   ]
  },
  {
   "cell_type": "markdown",
   "metadata": {},
   "source": [
    "## Type conversion\n",
    "You can also allow an object to be converted to other types.\n",
    "* ```__int__```\n",
    "* ```__float__```\n",
    "* etc"
   ]
  },
  {
   "cell_type": "code",
   "execution_count": 49,
   "metadata": {
    "collapsed": true
   },
   "outputs": [],
   "source": [
    "class Card:\n",
    "    def __init__(self, suit, rank):\n",
    "        self.suit = suit\n",
    "        self.rank = rank\n",
    "    \n",
    "    def value(self):\n",
    "        if self.rank == 'A':\n",
    "            return 11\n",
    "        elif self.rank in ['K', 'J', 'Q']:\n",
    "            return 10\n",
    "        else:\n",
    "            return int(self.rank)\n",
    "        \n",
    "    def __str__(self):\n",
    "        return \"{} of {}s\".format(self.rank, self.suit)\n",
    "\n",
    "    def __int__(self):\n",
    "        return self.value()"
   ]
  },
  {
   "cell_type": "code",
   "execution_count": 50,
   "metadata": {
    "collapsed": false
   },
   "outputs": [
    {
     "name": "stdout",
     "output_type": "stream",
     "text": [
      "A of Spades\n"
     ]
    }
   ],
   "source": [
    "card = Card('Spade', 'A')\n",
    "print(card)"
   ]
  },
  {
   "cell_type": "code",
   "execution_count": 51,
   "metadata": {
    "collapsed": false
   },
   "outputs": [
    {
     "data": {
      "text/plain": [
       "11"
      ]
     },
     "execution_count": 51,
     "metadata": {},
     "output_type": "execute_result"
    }
   ],
   "source": [
    "int(card)"
   ]
  },
  {
   "cell_type": "markdown",
   "metadata": {},
   "source": [
    "## Making your object callable\n",
    "\n",
    "You can make an object act like a function if you want"
   ]
  },
  {
   "cell_type": "code",
   "execution_count": 52,
   "metadata": {
    "collapsed": true
   },
   "outputs": [],
   "source": [
    "class CallMe:\n",
    "    stuck = \"In your head\"\n",
    "    \n",
    "    def __call__(self):\n",
    "        print(\"Maybe\")"
   ]
  },
  {
   "cell_type": "code",
   "execution_count": 53,
   "metadata": {
    "collapsed": true
   },
   "outputs": [],
   "source": [
    "call_me = CallMe()"
   ]
  },
  {
   "cell_type": "code",
   "execution_count": 54,
   "metadata": {
    "collapsed": false
   },
   "outputs": [
    {
     "name": "stdout",
     "output_type": "stream",
     "text": [
      "Maybe\n"
     ]
    }
   ],
   "source": [
    "call_me()"
   ]
  },
  {
   "cell_type": "markdown",
   "metadata": {},
   "source": [
    "# Context Managers\n",
    "\n",
    "This allows people to use the ```with``` keyword on your objects to automatically clean up"
   ]
  },
  {
   "cell_type": "code",
   "execution_count": 55,
   "metadata": {
    "collapsed": true
   },
   "outputs": [],
   "source": [
    "class Cleaner:\n",
    "    message = \"Hello\"\n",
    "    \n",
    "    def __enter__(self):\n",
    "        return self.message\n",
    "    \n",
    "    def __exit__(self, exception_type, exception_val, trace):\n",
    "        print(\"Cleaning up\")\n",
    "        message = None"
   ]
  },
  {
   "cell_type": "code",
   "execution_count": 57,
   "metadata": {
    "collapsed": false
   },
   "outputs": [
    {
     "data": {
      "text/plain": [
       "'Hello'"
      ]
     },
     "execution_count": 57,
     "metadata": {},
     "output_type": "execute_result"
    }
   ],
   "source": [
    "cleaner = Cleaner()\n",
    "cleaner.message"
   ]
  },
  {
   "cell_type": "code",
   "execution_count": 58,
   "metadata": {
    "collapsed": false
   },
   "outputs": [
    {
     "name": "stdout",
     "output_type": "stream",
     "text": [
      "Hello\n",
      "Cleaning up\n"
     ]
    }
   ],
   "source": [
    "with Cleaner() as message:\n",
    "    print(message)"
   ]
  },
  {
   "cell_type": "markdown",
   "metadata": {},
   "source": [
    "# Iterables\n",
    "\n",
    "By adding `__iter__` and `__next__` allows your class to be iterable and used in loops"
   ]
  },
  {
   "cell_type": "code",
   "execution_count": 77,
   "metadata": {
    "collapsed": false
   },
   "outputs": [],
   "source": [
    "class Card:\n",
    "    def __init__(self, suit, rank):\n",
    "        self.suit = suit\n",
    "        self.rank = rank\n",
    "    \n",
    "    def value(self):\n",
    "        if rank == 'A':\n",
    "            return 11\n",
    "        elif rank in ['K', 'J', 'Q']:\n",
    "            return 10\n",
    "        else:\n",
    "            return rank\n",
    "        \n",
    "    def __str__(self):\n",
    "        return \"{} of {}s\".format(self.rank, self.suit)\n",
    "        \n",
    "        \n",
    "class Deck:\n",
    "    def __init__(self):\n",
    "        suits = ['Diamond', 'Spade', 'Heart', 'Club']\n",
    "        ranks = [1,2,3,4,5,6,7,8,9,10,'J','Q','K','A']\n",
    "        \n",
    "        self.cards = [Card(suit, rank) for rank in ranks for suit in suits]\n",
    "        \n",
    "    def __iter__(self):\n",
    "        \"\"\" Since the deck is determined by cards we are going to pass back the list iterator\"\"\"\n",
    "        return self.cards.__iter__()\n",
    "    "
   ]
  },
  {
   "cell_type": "code",
   "execution_count": 75,
   "metadata": {
    "collapsed": true
   },
   "outputs": [],
   "source": [
    "deck = Deck()"
   ]
  },
  {
   "cell_type": "code",
   "execution_count": 76,
   "metadata": {
    "collapsed": false
   },
   "outputs": [
    {
     "name": "stdout",
     "output_type": "stream",
     "text": [
      "1 of Diamonds\n",
      "1 of Spades\n",
      "1 of Hearts\n",
      "1 of Clubs\n",
      "2 of Diamonds\n",
      "2 of Spades\n",
      "2 of Hearts\n",
      "2 of Clubs\n",
      "3 of Diamonds\n",
      "3 of Spades\n",
      "3 of Hearts\n",
      "3 of Clubs\n",
      "4 of Diamonds\n",
      "4 of Spades\n",
      "4 of Hearts\n",
      "4 of Clubs\n",
      "5 of Diamonds\n",
      "5 of Spades\n",
      "5 of Hearts\n",
      "5 of Clubs\n",
      "6 of Diamonds\n",
      "6 of Spades\n",
      "6 of Hearts\n",
      "6 of Clubs\n",
      "7 of Diamonds\n",
      "7 of Spades\n",
      "7 of Hearts\n",
      "7 of Clubs\n",
      "8 of Diamonds\n",
      "8 of Spades\n",
      "8 of Hearts\n",
      "8 of Clubs\n",
      "9 of Diamonds\n",
      "9 of Spades\n",
      "9 of Hearts\n",
      "9 of Clubs\n",
      "10 of Diamonds\n",
      "10 of Spades\n",
      "10 of Hearts\n",
      "10 of Clubs\n",
      "J of Diamonds\n",
      "J of Spades\n",
      "J of Hearts\n",
      "J of Clubs\n",
      "Q of Diamonds\n",
      "Q of Spades\n",
      "Q of Hearts\n",
      "Q of Clubs\n",
      "K of Diamonds\n",
      "K of Spades\n",
      "K of Hearts\n",
      "K of Clubs\n",
      "A of Diamonds\n",
      "A of Spades\n",
      "A of Hearts\n",
      "A of Clubs\n"
     ]
    }
   ],
   "source": [
    "for card in deck:\n",
    "    print(card)"
   ]
  },
  {
   "cell_type": "code",
   "execution_count": null,
   "metadata": {
    "collapsed": true
   },
   "outputs": [],
   "source": []
  }
 ],
 "metadata": {
  "kernelspec": {
   "display_name": "Python 3",
   "language": "python",
   "name": "python3"
  },
  "language_info": {
   "codemirror_mode": {
    "name": "ipython",
    "version": 3
   },
   "file_extension": ".py",
   "mimetype": "text/x-python",
   "name": "python",
   "nbconvert_exporter": "python",
   "pygments_lexer": "ipython3",
   "version": "3.5.0"
  }
 },
 "nbformat": 4,
 "nbformat_minor": 0
}
