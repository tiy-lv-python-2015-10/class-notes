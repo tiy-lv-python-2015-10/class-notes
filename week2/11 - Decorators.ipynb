{
 "cells": [
  {
   "cell_type": "markdown",
   "metadata": {},
   "source": [
    "# Decorators Again\n",
    "\n",
    "Decorators are a way to add behavior to a function. They replace a function with a new \"wrapped\" version of that function.\n",
    "\n",
    "The best way to describe a decorator is a \"function that returns a function that calls the intended function\".\n",
    "\n",
    "If that doesn't irritate/confuse your students - I don't know what will.# Decorators Again"
   ]
  },
  {
   "cell_type": "code",
   "execution_count": null,
   "metadata": {
    "collapsed": true
   },
   "outputs": [],
   "source": []
  }
 ],
 "metadata": {
  "kernelspec": {
   "display_name": "Python 3",
   "language": "python",
   "name": "python3"
  },
  "language_info": {
   "codemirror_mode": {
    "name": "ipython",
    "version": 3
   },
   "file_extension": ".py",
   "mimetype": "text/x-python",
   "name": "python",
   "nbconvert_exporter": "python",
   "pygments_lexer": "ipython3",
   "version": "3.5.0"
  }
 },
 "nbformat": 4,
 "nbformat_minor": 0
}
