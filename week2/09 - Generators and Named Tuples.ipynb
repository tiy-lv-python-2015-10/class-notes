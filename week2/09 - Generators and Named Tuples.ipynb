{
 "cells": [
  {
   "cell_type": "markdown",
   "metadata": {},
   "source": [
    "# Generators\n",
    "\n",
    "In Python there are often many different ways to accomplish a single task.  So far you are familiar with many of Pythons primitive data types - specifically for this discussion we will focus on data types that can be iterated over.  \n",
    "\n",
    "A list is a perfect example of a type that can be iterated over.  When Python iterated through the list there are a few major things to note about how it does it:\n",
    "\n",
    " - The list is fully loaded into memory\n",
    " - Each individual item in the list is exposed to the scope as the variable name you provided.\n",
    " \n",
    "List iteration for review:"
   ]
  },
  {
   "cell_type": "code",
   "execution_count": null,
   "metadata": {
    "collapsed": true
   },
   "outputs": [],
   "source": []
  },
  {
   "cell_type": "code",
   "execution_count": null,
   "metadata": {
    "collapsed": true
   },
   "outputs": [],
   "source": []
  },
  {
   "cell_type": "code",
   "execution_count": null,
   "metadata": {
    "collapsed": true
   },
   "outputs": [],
   "source": []
  },
  {
   "cell_type": "code",
   "execution_count": null,
   "metadata": {
    "collapsed": true
   },
   "outputs": [],
   "source": []
  },
  {
   "cell_type": "markdown",
   "metadata": {},
   "source": [
    "# Named Tuple\n",
    "\n",
    "Named Tuples (from here on referred to by their syntactically correct name `namedtuple`) are possibly the quickest way to convert a primitive data structure into a Python object-like instance.  It generates a hefty amount of boilerplate code for you and all you really pass in is a Name, Keys, and Values. A `namedtuple` can be especially useful if you're working with something like a JSON Api that will pass you a flat string of data that you need to convert into something useful.  Lets see an example: \n"
   ]
  },
  {
   "cell_type": "code",
   "execution_count": null,
   "metadata": {
    "collapsed": true
   },
   "outputs": [],
   "source": []
  }
 ],
 "metadata": {
  "kernelspec": {
   "display_name": "Python 3",
   "language": "python",
   "name": "python3"
  },
  "language_info": {
   "codemirror_mode": {
    "name": "ipython",
    "version": 3
   },
   "file_extension": ".py",
   "mimetype": "text/x-python",
   "name": "python",
   "nbconvert_exporter": "python",
   "pygments_lexer": "ipython3",
   "version": "3.5.0"
  }
 },
 "nbformat": 4,
 "nbformat_minor": 0
}
