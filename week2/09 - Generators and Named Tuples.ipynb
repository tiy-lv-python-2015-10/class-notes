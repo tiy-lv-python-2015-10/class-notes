{
 "cells": [
  {
   "cell_type": "markdown",
   "metadata": {},
   "source": [
    "# Generators\n",
    "\n",
    "In Python there are often many different ways to accomplish a single task.  So far you are familiar with many of Pythons primitive data types - specifically for this discussion we will focus on data types that can be iterated over.  \n",
    "\n",
    "A list is a perfect example of a type that can be iterated over.  When Python iterated through the list there are a few major things to note about how it does it:\n",
    "\n",
    " - The list is fully loaded into memory\n",
    " - Each individual item in the list is exposed to the scope as the variable name you provided.\n",
    " \n",
    "List iteration for review:"
   ]
  },
  {
   "cell_type": "code",
   "execution_count": 1,
   "metadata": {
    "collapsed": false
   },
   "outputs": [
    {
     "name": "stdout",
     "output_type": "stream",
     "text": [
      "JP\n",
      "Adam\n",
      "Peter\n"
     ]
    }
   ],
   "source": [
    "for name in [\"JP\", \"Adam\", \"Peter\"]:\n",
    "    print(name)"
   ]
  },
  {
   "cell_type": "markdown",
   "metadata": {},
   "source": [
    "A generator is different from an iterator in that it looks more like a function with a return value.  Do not be fooled though, this is not a typical function that will return a value and exit forever.  Instead the generator function will return a generator object (from the `yield` statement)."
   ]
  },
  {
   "cell_type": "code",
   "execution_count": 2,
   "metadata": {
    "collapsed": true
   },
   "outputs": [],
   "source": [
    "def generator_function(values):\n",
    "    for val in values:\n",
    "        yield val ** val"
   ]
  },
  {
   "cell_type": "code",
   "execution_count": 3,
   "metadata": {
    "collapsed": false,
    "scrolled": true
   },
   "outputs": [
    {
     "name": "stdout",
     "output_type": "stream",
     "text": [
      "1\n",
      "4\n",
      "27\n",
      "256\n",
      "3125\n",
      "46656\n",
      "823543\n"
     ]
    }
   ],
   "source": [
    "for square in generator_function([1,2,3,4,5,6,7]):\n",
    "    print(square)"
   ]
  },
  {
   "cell_type": "markdown",
   "metadata": {},
   "source": [
    "How this works may still be unclear - that's because it's iterating through the sequence `lazily`.  This means instead of moving through a sequence all at once the generator will iterate and calculate the value only when it's asked to - waiting until the very last minute before it has to do any work.  Hence the `lazy` term.  This is more clearly demonstrated below."
   ]
  },
  {
   "cell_type": "code",
   "execution_count": 4,
   "metadata": {
    "collapsed": true
   },
   "outputs": [],
   "source": [
    "def generator_func():\n",
    "    yield \"JP\"\n",
    "    yield \"Peter\"\n",
    "    yield \"Adam\""
   ]
  },
  {
   "cell_type": "code",
   "execution_count": 5,
   "metadata": {
    "collapsed": false
   },
   "outputs": [
    {
     "name": "stdout",
     "output_type": "stream",
     "text": [
      "JP\n"
     ]
    }
   ],
   "source": [
    "print(next(generator_func()))"
   ]
  },
  {
   "cell_type": "markdown",
   "metadata": {},
   "source": [
    "The above code snippet more clearly demonstrates what is going on inside of a generator object.  The first time you call the function nothing really happens.  It's only after you need to iterate over the generator that you actually see something happening. Your own personal useage of `next` may vary in projects but it serves a good purpose to demonstrate what's going on here.\n",
    "\n",
    "A smart use for a generator is for file I/O. The file you read in can be any size and if all you needed was access to the file contents \"down the line\" you would have to read the whole file in and pass all of that memory around.  With a generator you can create a reference to the file that doesn't get read until it's absolutely neccesary."
   ]
  },
  {
   "cell_type": "code",
   "execution_count": 7,
   "metadata": {
    "collapsed": false,
    "scrolled": true
   },
   "outputs": [
    {
     "name": "stdout",
     "output_type": "stream",
     "text": [
      "JP\n",
      "Peter\n",
      "Adam\n"
     ]
    }
   ],
   "source": [
    "for name in generator_func():\n",
    "    print(name)"
   ]
  },
  {
   "cell_type": "code",
   "execution_count": 9,
   "metadata": {
    "collapsed": false
   },
   "outputs": [
    {
     "name": "stdout",
     "output_type": "stream",
     "text": [
      "range(0, 10)\n"
     ]
    }
   ],
   "source": [
    "foo = range(10)\n",
    "print(foo)"
   ]
  },
  {
   "cell_type": "code",
   "execution_count": 26,
   "metadata": {
    "collapsed": false,
    "scrolled": true
   },
   "outputs": [
    {
     "name": "stdout",
     "output_type": "stream",
     "text": [
      "﻿The Project Gutenberg EBook of The Great Round World and What Is Going On\n",
      "\n"
     ]
    }
   ],
   "source": [
    "def file_contents(file_path):\n",
    "    for line in open(file_path):\n",
    "        yield line\n",
    "\n",
    "def do_something_two(file_generator):\n",
    "    # now that we are here lets start reading the file\n",
    "    # As this iterates it will read a line from the file into memory and then\n",
    "    # dump it as it's no longer needed\n",
    "    for line in file_generator:\n",
    "        print(line)\n",
    "        break\n",
    "\n",
    "def do_something_one(file_generator):\n",
    "    # other stuff happens here\n",
    "    do_something_two(file_generator)  # Just hand the file reference to it's final destination\n",
    "        \n",
    "def main_function():    \n",
    "    file_generator = file_contents(\"pg15325.txt\")  # haven't read the file yet\n",
    "    do_something_one(file_generator)  # Invoke the function above, pass it file reference\n",
    "\n",
    "\n",
    "main_function()"
   ]
  },
  {
   "cell_type": "markdown",
   "metadata": {},
   "source": [
    "A final note on generators.  Python makes an extra effort for us as programmers so that we can treat an iterator the same way we would treat a generator.  This can make for refactoring memory intensive code to use a more lighter weight generator pretty painless. Just make sure you've got adequate test coverage for such a refactor."
   ]
  },
  {
   "cell_type": "markdown",
   "metadata": {},
   "source": [
    "# Named Tuple\n",
    "\n",
    "Named Tuples (from here on referred to by their syntactically correct name `namedtuple`) are possibly the quickest way to convert a primitive data structure into a Python object-like instance.  It generates a hefty amount of boilerplate code for you and all you really pass in is a Name, Keys, and Values. A `namedtuple` can be especially useful if you're working with something like a JSON Api that will pass you a flat string of data that you need to convert into something useful.  Lets see an example: \n"
   ]
  },
  {
   "cell_type": "code",
   "execution_count": 10,
   "metadata": {
    "collapsed": true
   },
   "outputs": [],
   "source": [
    "import json\n",
    "from collections import namedtuple"
   ]
  },
  {
   "cell_type": "code",
   "execution_count": 11,
   "metadata": {
    "collapsed": true
   },
   "outputs": [],
   "source": [
    "class Person:\n",
    "    def __init__(self, name, email, zip_code):\n",
    "        self.name = name\n",
    "        self.email = email\n",
    "        self.zip_code = zip_code"
   ]
  },
  {
   "cell_type": "code",
   "execution_count": 13,
   "metadata": {
    "collapsed": false
   },
   "outputs": [
    {
     "data": {
      "text/plain": [
       "<__main__.Person at 0x106616c50>"
      ]
     },
     "execution_count": 13,
     "metadata": {},
     "output_type": "execute_result"
    }
   ],
   "source": [
    "bob = Person(\"Bob\", \"bob@bob.com\", 89104)\n",
    "bob"
   ]
  },
  {
   "cell_type": "code",
   "execution_count": 14,
   "metadata": {
    "collapsed": true
   },
   "outputs": [],
   "source": [
    "Person = namedtuple(\"Person\", \"name email zip\")"
   ]
  },
  {
   "cell_type": "code",
   "execution_count": 15,
   "metadata": {
    "collapsed": true
   },
   "outputs": [],
   "source": [
    "sally = Person(name=\"Sally\", email=\"sally@sally.com\", zip=89104)"
   ]
  },
  {
   "cell_type": "code",
   "execution_count": 16,
   "metadata": {
    "collapsed": false
   },
   "outputs": [
    {
     "data": {
      "text/plain": [
       "Person(name='Sally', email='sally@sally.com', zip=89104)"
      ]
     },
     "execution_count": 16,
     "metadata": {},
     "output_type": "execute_result"
    }
   ],
   "source": [
    "sally"
   ]
  },
  {
   "cell_type": "markdown",
   "metadata": {},
   "source": [
    "### What is happening here?\n",
    "\n",
    "\"Did you just make a class?\"\n",
    "\n",
    "\"That's not how we've defined classes before?!\"\n",
    "\n",
    "If you thought either of these or any variation on this theme then you are not lost - you're seeing what you need to see.  `namedtuple` is actually what is called a `Factory`.  A `Factory` is a function that can return a class on the fly without having to define the class structure explicitly.\n",
    "\n",
    "\"It can return a class?\"\n",
    "\n",
    "Exactly!  I used the term `boilerplate` in the paragraph section above and what I meant by that was just \"tedious code that might be duplicated that I don't want to write\".  Using a `Factory` to generate a class for you automatically can allow you to more easily interact with 3rd party APIs that may change their data structure.\n",
    "\n",
    "A `namedtuple` can also allow the your program the inject instance methods onto your object `on the fly`. See below:"
   ]
  },
  {
   "cell_type": "code",
   "execution_count": 18,
   "metadata": {
    "collapsed": true
   },
   "outputs": [],
   "source": [
    "JSON_STRING = '{\"name\": \"garfield\", \"grade\": \"sophomore\"}'\n",
    "json_dict = json.loads(JSON_STRING)"
   ]
  },
  {
   "cell_type": "code",
   "execution_count": 19,
   "metadata": {
    "collapsed": false
   },
   "outputs": [
    {
     "name": "stdout",
     "output_type": "stream",
     "text": [
      "{'grade': 'sophomore', 'name': 'garfield'}\n"
     ]
    }
   ],
   "source": [
    "print(json_dict)"
   ]
  },
  {
   "cell_type": "code",
   "execution_count": 20,
   "metadata": {
    "collapsed": true
   },
   "outputs": [],
   "source": [
    "Person = namedtuple(\"Person\", json_dict.keys())"
   ]
  },
  {
   "cell_type": "code",
   "execution_count": 22,
   "metadata": {
    "collapsed": false
   },
   "outputs": [
    {
     "data": {
      "text/plain": [
       "__main__.Person"
      ]
     },
     "execution_count": 22,
     "metadata": {},
     "output_type": "execute_result"
    }
   ],
   "source": [
    "Person"
   ]
  },
  {
   "cell_type": "code",
   "execution_count": 23,
   "metadata": {
    "collapsed": true
   },
   "outputs": [],
   "source": [
    "person = Person(*json_dict.values())"
   ]
  },
  {
   "cell_type": "code",
   "execution_count": 24,
   "metadata": {
    "collapsed": false
   },
   "outputs": [
    {
     "name": "stdout",
     "output_type": "stream",
     "text": [
      "sophomore garfield\n"
     ]
    }
   ],
   "source": [
    "print(*json_dict.values())"
   ]
  },
  {
   "cell_type": "code",
   "execution_count": 25,
   "metadata": {
    "collapsed": false
   },
   "outputs": [
    {
     "data": {
      "text/plain": [
       "Person(grade='sophomore', name='garfield')"
      ]
     },
     "execution_count": 25,
     "metadata": {},
     "output_type": "execute_result"
    }
   ],
   "source": [
    "person"
   ]
  },
  {
   "cell_type": "code",
   "execution_count": null,
   "metadata": {
    "collapsed": true
   },
   "outputs": [],
   "source": []
  }
 ],
 "metadata": {
  "kernelspec": {
   "display_name": "Python 3",
   "language": "python",
   "name": "python3"
  },
  "language_info": {
   "codemirror_mode": {
    "name": "ipython",
    "version": 3
   },
   "file_extension": ".py",
   "mimetype": "text/x-python",
   "name": "python",
   "nbconvert_exporter": "python",
   "pygments_lexer": "ipython3",
   "version": "3.5.0"
  }
 },
 "nbformat": 4,
 "nbformat_minor": 0
}
