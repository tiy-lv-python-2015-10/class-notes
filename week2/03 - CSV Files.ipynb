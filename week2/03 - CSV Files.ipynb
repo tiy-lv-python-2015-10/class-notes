{
 "cells": [
  {
   "cell_type": "code",
   "execution_count": 1,
   "metadata": {
    "collapsed": true
   },
   "outputs": [],
   "source": [
    "import csv"
   ]
  },
  {
   "cell_type": "code",
   "execution_count": 2,
   "metadata": {
    "collapsed": false
   },
   "outputs": [
    {
     "name": "stdout",
     "output_type": "stream",
     "text": [
      "id,student,grade\r\n",
      "1,Hunter,A\r\n",
      "2,Grey,B\r\n",
      "3,Elliot,C\r\n",
      "4,Kerry,B\r\n",
      "5,Marion,D"
     ]
    }
   ],
   "source": [
    "!head students.csv"
   ]
  },
  {
   "cell_type": "code",
   "execution_count": 6,
   "metadata": {
    "collapsed": false
   },
   "outputs": [
    {
     "name": "stdout",
     "output_type": "stream",
     "text": [
      "['id', 'student', 'grade']\n",
      "['1', 'Hunter', 'A']\n",
      "['2', 'Grey', 'B']\n",
      "['3', 'Elliot', 'C']\n",
      "['4', 'Kerry', 'B']\n",
      "['5', 'Marion', 'D']\n"
     ]
    }
   ],
   "source": [
    "with open(\"students.csv\") as file:\n",
    "    reader = csv.reader(file) #reader is an iterable\n",
    "    for row in reader: #loop through every row\n",
    "        print(row) # Each row has already been split into a list"
   ]
  },
  {
   "cell_type": "code",
   "execution_count": 4,
   "metadata": {
    "collapsed": false
   },
   "outputs": [
    {
     "name": "stdout",
     "output_type": "stream",
     "text": [
      "['id', 'student', 'grade']\n",
      "---\n",
      "['1', 'Hunter', 'A']\n",
      "['2', 'Grey', 'B']\n",
      "['3', 'Elliot', 'C']\n",
      "['4', 'Kerry', 'B']\n",
      "['5', 'Marion', 'D']\n"
     ]
    }
   ],
   "source": [
    "with open(\"students.csv\") as file:\n",
    "    reader = csv.reader(file) # reader is an iterable\n",
    "    headers = next(reader) # next reads in the first value (row) of the list\n",
    "    print(headers)\n",
    "    print(\"---\")\n",
    "    for row in reader: # loop through the rest of the rows\n",
    "        print(row)"
   ]
  },
  {
   "cell_type": "code",
   "execution_count": 7,
   "metadata": {
    "collapsed": false
   },
   "outputs": [
    {
     "name": "stdout",
     "output_type": "stream",
     "text": [
      "{'student': 'Hunter', 'id': '1', 'grade': 'A'}\n",
      "{'student': 'Grey', 'id': '2', 'grade': 'B'}\n",
      "{'student': 'Elliot', 'id': '3', 'grade': 'C'}\n",
      "{'student': 'Kerry', 'id': '4', 'grade': 'B'}\n",
      "{'student': 'Marion', 'id': '5', 'grade': 'D'}\n"
     ]
    }
   ],
   "source": [
    "with open(\"students.csv\") as file:\n",
    "    reader = csv.DictReader(file) # DictReader creates a dictionary out of each row matched to the header\n",
    "    for row in reader:\n",
    "        print(row)"
   ]
  },
  {
   "cell_type": "code",
   "execution_count": null,
   "metadata": {
    "collapsed": true
   },
   "outputs": [],
   "source": []
  }
 ],
 "metadata": {
  "kernelspec": {
   "display_name": "Python 3",
   "language": "python",
   "name": "python3"
  },
  "language_info": {
   "codemirror_mode": {
    "name": "ipython",
    "version": 3
   },
   "file_extension": ".py",
   "mimetype": "text/x-python",
   "name": "python",
   "nbconvert_exporter": "python",
   "pygments_lexer": "ipython3",
   "version": "3.5.0"
  }
 },
 "nbformat": 4,
 "nbformat_minor": 0
}
