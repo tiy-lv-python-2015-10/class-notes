{
 "cells": [
  {
   "cell_type": "markdown",
   "metadata": {},
   "source": [
    "## Why exceptions?"
   ]
  },
  {
   "cell_type": "markdown",
   "metadata": {},
   "source": [
    "Exceptions are used to handle errors that happen during program execution. Most errors we've seen so far are caught when Python reads your program, but errors can happen while the program is running, like when you divide by zero or try to open a file that does not exist.\n",
    "\n",
    "The main thing we need to know about exceptions at this time is how to handle them."
   ]
  },
  {
   "cell_type": "code",
   "execution_count": null,
   "metadata": {
    "collapsed": true
   },
   "outputs": [],
   "source": []
  },
  {
   "cell_type": "code",
   "execution_count": null,
   "metadata": {
    "collapsed": true
   },
   "outputs": [],
   "source": []
  },
  {
   "cell_type": "code",
   "execution_count": null,
   "metadata": {
    "collapsed": true
   },
   "outputs": [],
   "source": []
  },
  {
   "cell_type": "markdown",
   "metadata": {},
   "source": [
    "## Common exceptions you will see\n",
    "\n",
    "* AttributeError - when you try to access an attribute that doesn't exist on an object\n",
    "* IndexError - when you try to access an index that doesn't exist on an object\n",
    "* KeyError - when you try to access a key that doesn't exist on a dict\n",
    "* NameError - when you try to use a variable that is undefined\n",
    "* RuntimeError - general-purpose error\n",
    "* ValueError - when you call a function with an argument that cannot work\n",
    "* ZeroDivisionError - when you divide by zero"
   ]
  },
  {
   "cell_type": "markdown",
   "metadata": {},
   "source": [
    "## Raising your own exceptions\n",
    "\n",
    "If you have an event worthy of an exception in your own code, you can raise an exception. You should try to handle errors when possible, but if there is an unhandleable situation in your code, an exception is warranted.\n",
    "\n",
    "`RuntimeError` is the most common exception you will raise, but you can use more specific ones, as seen below."
   ]
  },
  {
   "cell_type": "code",
   "execution_count": null,
   "metadata": {
    "collapsed": true
   },
   "outputs": [],
   "source": []
  }
 ],
 "metadata": {
  "kernelspec": {
   "display_name": "Python 3",
   "language": "python",
   "name": "python3"
  },
  "language_info": {
   "codemirror_mode": {
    "name": "ipython",
    "version": 3
   },
   "file_extension": ".py",
   "mimetype": "text/x-python",
   "name": "python",
   "nbconvert_exporter": "python",
   "pygments_lexer": "ipython3",
   "version": "3.5.0"
  }
 },
 "nbformat": 4,
 "nbformat_minor": 0
}
