{
 "cells": [
  {
   "cell_type": "markdown",
   "metadata": {},
   "source": [
    "## Why exceptions?"
   ]
  },
  {
   "cell_type": "markdown",
   "metadata": {},
   "source": [
    "Exceptions are used to handle errors that happen during program execution. Most errors we've seen so far are caught when Python reads your program, but errors can happen while the program is running, like when you divide by zero or try to open a file that does not exist.\n",
    "\n",
    "The main thing we need to know about exceptions at this time is how to handle them."
   ]
  },
  {
   "cell_type": "code",
   "execution_count": 5,
   "metadata": {
    "collapsed": false
   },
   "outputs": [
    {
     "name": "stdout",
     "output_type": "stream",
     "text": [
      "Let's turn a fraction into a decimal\n",
      "Numerator: 1\n",
      "Denominator: 0\n",
      "You cannot divide by zero, you jerk\n",
      "<class 'ZeroDivisionError'>\n",
      "float division by zero\n",
      "Hello world\n"
     ]
    }
   ],
   "source": [
    "print(\"Let's turn a fraction into a decimal\")\n",
    "numerator = input(\"Numerator: \")\n",
    "denominator = input(\"Denominator: \")\n",
    "\n",
    "try:\n",
    "    print(\"The result is {}.\".format(float(numerator) / float(denominator)))\n",
    "except ZeroDivisionError as e:\n",
    "    print(\"You cannot divide by zero, you jerk\")\n",
    "    print(type(e))\n",
    "    print(e)\n",
    "\n",
    "print(\"Hello world\")"
   ]
  },
  {
   "cell_type": "markdown",
   "metadata": {},
   "source": [
    "## Common exceptions you will see\n",
    "\n",
    "* AttributeError - when you try to access an attribute that doesn't exist on an object\n",
    "* IndexError - when you try to access an index that doesn't exist on an object\n",
    "* KeyError - when you try to access a key that doesn't exist on a dict\n",
    "* NameError - when you try to use a variable that is undefined\n",
    "* RuntimeError - general-purpose error\n",
    "* ValueError - when you call a function with an argument that cannot work\n",
    "* ZeroDivisionError - when you divide by zero"
   ]
  },
  {
   "cell_type": "markdown",
   "metadata": {},
   "source": [
    "## Raising your own exceptions\n",
    "\n",
    "If you have an event worthy of an exception in your own code, you can raise an exception. You should try to handle errors when possible, but if there is an unhandleable situation in your code, an exception is warranted.\n",
    "\n",
    "`RuntimeError` is the most common exception you will raise, but you can use more specific ones, as seen below."
   ]
  },
  {
   "cell_type": "code",
   "execution_count": 6,
   "metadata": {
    "collapsed": true
   },
   "outputs": [],
   "source": [
    "import re\n",
    "import random\n",
    "\n",
    "def roll_dice(dice):\n",
    "    match = re.match(\"(\\d+)d(\\d+)\", dice)\n",
    "    if match is None:\n",
    "        raise ValueError(\"Not a valid dice expression\")\n",
    "    \n",
    "    number, size = [int(x) for x in match.groups()]\n",
    "    \n",
    "    return sum(random.randint(1, size) for _ in range(number))"
   ]
  },
  {
   "cell_type": "code",
   "execution_count": 7,
   "metadata": {
    "collapsed": false
   },
   "outputs": [
    {
     "data": {
      "text/plain": [
       "9"
      ]
     },
     "execution_count": 7,
     "metadata": {},
     "output_type": "execute_result"
    }
   ],
   "source": [
    "roll_dice(\"3d6\")"
   ]
  },
  {
   "cell_type": "code",
   "execution_count": 9,
   "metadata": {
    "collapsed": false
   },
   "outputs": [
    {
     "ename": "ValueError",
     "evalue": "Not a valid dice expression",
     "output_type": "error",
     "traceback": [
      "\u001b[0;31m---------------------------------------------------------------------------\u001b[0m",
      "\u001b[0;31mValueError\u001b[0m                                Traceback (most recent call last)",
      "\u001b[0;32m<ipython-input-9-0e659d4eba7b>\u001b[0m in \u001b[0;36m<module>\u001b[0;34m()\u001b[0m\n\u001b[0;32m----> 1\u001b[0;31m \u001b[0mroll_dice\u001b[0m\u001b[0;34m(\u001b[0m\u001b[0;34m\"12\"\u001b[0m\u001b[0;34m)\u001b[0m\u001b[0;34m\u001b[0m\u001b[0m\n\u001b[0m",
      "\u001b[0;32m<ipython-input-6-fc4b2463a9c6>\u001b[0m in \u001b[0;36mroll_dice\u001b[0;34m(dice)\u001b[0m\n\u001b[1;32m      5\u001b[0m     \u001b[0mmatch\u001b[0m \u001b[0;34m=\u001b[0m \u001b[0mre\u001b[0m\u001b[0;34m.\u001b[0m\u001b[0mmatch\u001b[0m\u001b[0;34m(\u001b[0m\u001b[0;34m\"(\\d+)d(\\d+)\"\u001b[0m\u001b[0;34m,\u001b[0m \u001b[0mdice\u001b[0m\u001b[0;34m)\u001b[0m\u001b[0;34m\u001b[0m\u001b[0m\n\u001b[1;32m      6\u001b[0m     \u001b[0;32mif\u001b[0m \u001b[0mmatch\u001b[0m \u001b[0;32mis\u001b[0m \u001b[0;32mNone\u001b[0m\u001b[0;34m:\u001b[0m\u001b[0;34m\u001b[0m\u001b[0m\n\u001b[0;32m----> 7\u001b[0;31m         \u001b[0;32mraise\u001b[0m \u001b[0mValueError\u001b[0m\u001b[0;34m(\u001b[0m\u001b[0;34m\"Not a valid dice expression\"\u001b[0m\u001b[0;34m)\u001b[0m\u001b[0;34m\u001b[0m\u001b[0m\n\u001b[0m\u001b[1;32m      8\u001b[0m \u001b[0;34m\u001b[0m\u001b[0m\n\u001b[1;32m      9\u001b[0m     \u001b[0mnumber\u001b[0m\u001b[0;34m,\u001b[0m \u001b[0msize\u001b[0m \u001b[0;34m=\u001b[0m \u001b[0;34m[\u001b[0m\u001b[0mint\u001b[0m\u001b[0;34m(\u001b[0m\u001b[0mx\u001b[0m\u001b[0;34m)\u001b[0m \u001b[0;32mfor\u001b[0m \u001b[0mx\u001b[0m \u001b[0;32min\u001b[0m \u001b[0mmatch\u001b[0m\u001b[0;34m.\u001b[0m\u001b[0mgroups\u001b[0m\u001b[0;34m(\u001b[0m\u001b[0;34m)\u001b[0m\u001b[0;34m]\u001b[0m\u001b[0;34m\u001b[0m\u001b[0m\n",
      "\u001b[0;31mValueError\u001b[0m: Not a valid dice expression"
     ]
    }
   ],
   "source": [
    "roll_dice(\"12\")"
   ]
  },
  {
   "cell_type": "code",
   "execution_count": null,
   "metadata": {
    "collapsed": true
   },
   "outputs": [],
   "source": []
  }
 ],
 "metadata": {
  "kernelspec": {
   "display_name": "Python 3",
   "language": "python",
   "name": "python3"
  },
  "language_info": {
   "codemirror_mode": {
    "name": "ipython",
    "version": 3
   },
   "file_extension": ".py",
   "mimetype": "text/x-python",
   "name": "python",
   "nbconvert_exporter": "python",
   "pygments_lexer": "ipython3",
   "version": "3.5.0"
  }
 },
 "nbformat": 4,
 "nbformat_minor": 0
}
