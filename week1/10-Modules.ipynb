{
 "cells": [
  {
   "cell_type": "markdown",
   "metadata": {},
   "source": [
    "One of the best things about working in Python is that you have a lot of code already written that you can use. Python itself comes with its standard library. There are third-party libraries you download with pip. And you can also reuse your own code.\n",
    "\n",
    "We often want to split our code into separate files for organizational purposes. We split our code up by topic. Each file holds a module."
   ]
  },
  {
   "cell_type": "code",
   "execution_count": 1,
   "metadata": {
    "collapsed": false
   },
   "outputs": [
    {
     "name": "stdout",
     "output_type": "stream",
     "text": [
      "2015 1 1\n"
     ]
    }
   ],
   "source": [
    "import datetime\n",
    "\n",
    "jan1 = datetime.date(year=2015, month=1, day=1)\n",
    "print(jan1.year, jan1.month, jan1.day)"
   ]
  },
  {
   "cell_type": "code",
   "execution_count": 2,
   "metadata": {
    "collapsed": false
   },
   "outputs": [
    {
     "name": "stdout",
     "output_type": "stream",
     "text": [
      "12 0 0\n"
     ]
    }
   ],
   "source": [
    "noon = datetime.time(hour=12, minute=0)\n",
    "print(noon.hour, noon.minute, noon.second)"
   ]
  },
  {
   "cell_type": "code",
   "execution_count": 3,
   "metadata": {
    "collapsed": false
   },
   "outputs": [
    {
     "name": "stdout",
     "output_type": "stream",
     "text": [
      "2015 1 1\n"
     ]
    }
   ],
   "source": [
    "from datetime import date\n",
    "\n",
    "jan1 = date(year=2015, month=1, day=1)\n",
    "print(jan1.year, jan1.month, jan1.day)"
   ]
  },
  {
   "cell_type": "code",
   "execution_count": 5,
   "metadata": {
    "collapsed": false
   },
   "outputs": [
    {
     "ename": "NameError",
     "evalue": "name 'time' is not defined",
     "output_type": "error",
     "traceback": [
      "\u001b[0;31m---------------------------------------------------------------------------\u001b[0m",
      "\u001b[0;31mNameError\u001b[0m                                 Traceback (most recent call last)",
      "\u001b[0;32m<ipython-input-5-45a048f2f64f>\u001b[0m in \u001b[0;36m<module>\u001b[0;34m()\u001b[0m\n\u001b[1;32m      1\u001b[0m \u001b[0;31m# What if we try to use something else we haven't imported?\u001b[0m\u001b[0;34m\u001b[0m\u001b[0;34m\u001b[0m\u001b[0m\n\u001b[0;32m----> 2\u001b[0;31m \u001b[0mtime\u001b[0m\u001b[0;34m(\u001b[0m\u001b[0mhour\u001b[0m\u001b[0;34m=\u001b[0m\u001b[0;36m12\u001b[0m\u001b[0;34m,\u001b[0m \u001b[0mminute\u001b[0m\u001b[0;34m=\u001b[0m\u001b[0;36m0\u001b[0m\u001b[0;34m)\u001b[0m\u001b[0;34m\u001b[0m\u001b[0m\n\u001b[0m",
      "\u001b[0;31mNameError\u001b[0m: name 'time' is not defined"
     ]
    }
   ],
   "source": [
    "# What if we try to use something else we haven't imported?\n",
    "time(hour=12, minute=0)"
   ]
  },
  {
   "cell_type": "markdown",
   "metadata": {},
   "source": [
    "Some really important namespaces in the standard library to know:\n",
    "\n",
    "* re\n",
    "* datetime\n",
    "* math\n",
    "* random\n",
    "* statistics\n",
    "* collections\n",
    "* itertools\n",
    "* os\n",
    "* os.path\n",
    "* sys\n",
    "* io\n",
    "* argparse\n",
    "* subprocess\n",
    "* csv\n",
    "* json\n",
    "* urllib"
   ]
  },
  {
   "cell_type": "markdown",
   "metadata": {},
   "source": [
    "# Importing your own modules\n",
    "\n",
    "When you use import, it looks for files in a list of paths. You can see these paths like so:"
   ]
  },
  {
   "cell_type": "code",
   "execution_count": 6,
   "metadata": {
    "collapsed": false
   },
   "outputs": [
    {
     "name": "stdout",
     "output_type": "stream",
     "text": [
      "['', '/Users/jeff/python/2015-10/class-notes/week1/.direnv/python-3.5.0/lib/python35.zip', '/Users/jeff/python/2015-10/class-notes/week1/.direnv/python-3.5.0/lib/python3.5', '/Users/jeff/python/2015-10/class-notes/week1/.direnv/python-3.5.0/lib/python3.5/plat-darwin', '/Users/jeff/python/2015-10/class-notes/week1/.direnv/python-3.5.0/lib/python3.5/lib-dynload', '/usr/local/Cellar/python3/3.5.0/Frameworks/Python.framework/Versions/3.5/lib/python3.5', '/usr/local/Cellar/python3/3.5.0/Frameworks/Python.framework/Versions/3.5/lib/python3.5/plat-darwin', '/Users/jeff/python/2015-10/class-notes/week1/.direnv/python-3.5.0/lib/python3.5/site-packages', '/Users/jeff/python/2015-10/class-notes/week1/.direnv/python-3.5.0/lib/python3.5/site-packages/IPython/extensions', '/Users/jeff/.ipython']\n"
     ]
    }
   ],
   "source": [
    "import sys\n",
    "print(sys.path)"
   ]
  },
  {
   "cell_type": "markdown",
   "metadata": {},
   "source": [
    "Note that the first one of those is an empty string. `import` will always be able to import things relative to your current directory, which is nice for use in projects.\n",
    "\n",
    "In your projects, you might have code that you only want executed if you run a file directly, but you don't want it run if the module is imported, like in a test file. To make that happen, use this:"
   ]
  },
  {
   "cell_type": "code",
   "execution_count": 7,
   "metadata": {
    "collapsed": true
   },
   "outputs": [],
   "source": [
    "if __name__ == \"__main__\":\n",
    "    # do whatever you want when the file is run directly\n",
    "    # i.e. python my_file.py\n",
    "    print(\"hello\")"
   ]
  },
  {
   "cell_type": "markdown",
   "metadata": {},
   "source": [
    "## Installing third-party libraries with pip"
   ]
  },
  {
   "cell_type": "markdown",
   "metadata": {},
   "source": [
    "### requirements.txt"
   ]
  },
  {
   "cell_type": "markdown",
   "metadata": {},
   "source": [
    "Curated list of libraries: [awesome-python](https://github.com/vinta/awesome-python)"
   ]
  },
  {
   "cell_type": "code",
   "execution_count": null,
   "metadata": {
    "collapsed": true
   },
   "outputs": [],
   "source": []
  }
 ],
 "metadata": {
  "kernelspec": {
   "display_name": "Python 3",
   "language": "python",
   "name": "python3"
  },
  "language_info": {
   "codemirror_mode": {
    "name": "ipython",
    "version": 3
   },
   "file_extension": ".py",
   "mimetype": "text/x-python",
   "name": "python",
   "nbconvert_exporter": "python",
   "pygments_lexer": "ipython3",
   "version": "3.5.0"
  }
 },
 "nbformat": 4,
 "nbformat_minor": 0
}
