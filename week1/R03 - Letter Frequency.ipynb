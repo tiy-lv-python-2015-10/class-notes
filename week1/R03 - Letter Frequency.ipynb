{
 "cells": [
  {
   "cell_type": "code",
   "execution_count": 18,
   "metadata": {
    "collapsed": false
   },
   "outputs": [
    {
     "data": {
      "text/plain": [
       "[(0, 'a'), (1, 'b'), (2, 'C')]"
      ]
     },
     "execution_count": 18,
     "metadata": {},
     "output_type": "execute_result"
    }
   ],
   "source": [
    "my_string = \"Hello World\"\n",
    "my_string[0]\n",
    "list(enumerate([\"a\", \"b\", \"C\"]))"
   ]
  },
  {
   "cell_type": "code",
   "execution_count": 13,
   "metadata": {
    "collapsed": true
   },
   "outputs": [],
   "source": [
    "def letter_count(message):\n",
    "    message = message.lower().replace(\" \", \"\")\n",
    "    \n",
    "    freq = {}\n",
    "    for letter in message:\n",
    "        if letting not in freq:\n",
    "            freq[letter] = 1\n",
    "        else:\n",
    "            current_value = freq[letter]\n",
    "            freq[letter] = current_value + 1\n",
    "    \n",
    "    print(message)"
   ]
  },
  {
   "cell_type": "code",
   "execution_count": 14,
   "metadata": {
    "collapsed": false
   },
   "outputs": [
    {
     "name": "stdout",
     "output_type": "stream",
     "text": [
      "t\n",
      "h\n",
      "e\n",
      "q\n",
      "u\n",
      "i\n",
      "c\n",
      "k\n",
      "b\n",
      "r\n",
      "o\n",
      "w\n",
      "n\n",
      "f\n",
      "o\n",
      "x\n",
      "j\n",
      "u\n",
      "m\n",
      "p\n",
      "e\n",
      "d\n",
      "o\n",
      "v\n",
      "e\n",
      "r\n",
      "t\n",
      "h\n",
      "e\n",
      "l\n",
      "a\n",
      "z\n",
      "y\n",
      "d\n",
      "o\n",
      "g\n",
      "thequickbrownfoxjumpedoverthelazydog\n",
      "None\n"
     ]
    }
   ],
   "source": [
    "print(letter_count(\"The Quick Brown Fox Jumped Over The Lazy Dog\"))"
   ]
  },
  {
   "cell_type": "code",
   "execution_count": null,
   "metadata": {
    "collapsed": true
   },
   "outputs": [],
   "source": [
    "def is_palindrome(palindrome):\n",
    "    \n",
    "    if len(palindrome) < 2:\n",
    "        return True\n",
    "    elif palindrome[0] != palindrome[-1]:\n",
    "        return False\n",
    "    else:\n",
    "        return is_palindrome(palindrome[1:-1])\n",
    "    "
   ]
  }
 ],
 "metadata": {
  "kernelspec": {
   "display_name": "Python 3",
   "language": "python",
   "name": "python3"
  },
  "language_info": {
   "codemirror_mode": {
    "name": "ipython",
    "version": 3
   },
   "file_extension": ".py",
   "mimetype": "text/x-python",
   "name": "python",
   "nbconvert_exporter": "python",
   "pygments_lexer": "ipython3",
   "version": "3.5.0"
  }
 },
 "nbformat": 4,
 "nbformat_minor": 0
}
