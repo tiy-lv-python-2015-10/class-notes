{
 "cells": [
  {
   "cell_type": "markdown",
   "metadata": {},
   "source": [
    "In order to write complex programs, we need some logic.\n",
    "\n",
    "If you think about programs like recipes, you'll think of conditional statements and loops. Here some examples:\n",
    "* Stir the mixture until it thickens.\n",
    "* Bake at 425 degrees for 11-13 minutes, or at 400 degrees for 15-17 for a crispier crust.\n",
    "* Cook on low for 8 hours, or on high for 3.5 hours.\n",
    "* Add the peppers once the onions are translucent.\n",
    "* Whip the eggs and sugar until they have stiff peaks."
   ]
  },
  {
   "cell_type": "markdown",
   "metadata": {},
   "source": [
    "# If Statements\n",
    "This will print a link depending on your age. Remember only the if is required. The elif and else are optional and can be used together or separately"
   ]
  },
  {
   "cell_type": "code",
   "execution_count": 2,
   "metadata": {
    "collapsed": false
   },
   "outputs": [
    {
     "name": "stdout",
     "output_type": "stream",
     "text": [
      "You are too young...Sorry kid\n"
     ]
    }
   ],
   "source": [
    "age = 6\n",
    "if age >= 18:\n",
    "    print(\"Welcome to class\")\n",
    "elif age >= 15 and age < 18:\n",
    "    print(\"So close but not quite\")\n",
    "else:\n",
    "    print(\"You are too young...Sorry kid\")"
   ]
  },
  {
   "cell_type": "code",
   "execution_count": 3,
   "metadata": {
    "collapsed": false
   },
   "outputs": [
    {
     "name": "stdout",
     "output_type": "stream",
     "text": [
      "You are so close but no\n"
     ]
    }
   ],
   "source": [
    "age = 12\n",
    "if age >= 18:\n",
    "    print(\"Welcome to class\")\n",
    "elif age < 18 or age > 15: \n",
    "    print(\"You are so close but no\")\n",
    "else:\n",
    "    print(\"You are too young...sorry\")"
   ]
  },
  {
   "cell_type": "markdown",
   "metadata": {},
   "source": [
    "Be careful of logic issues.  This block of code will always catch in the elif because of the **or**"
   ]
  },
  {
   "cell_type": "code",
   "execution_count": 4,
   "metadata": {
    "collapsed": false
   },
   "outputs": [
    {
     "name": "stdout",
     "output_type": "stream",
     "text": [
      "Welcome Aboard\n"
     ]
    }
   ],
   "source": [
    "gender = \"F\"\n",
    "age = 19\n",
    "if (age > 18 and gender == 'F') or (age > 21 and gender == 'M'):\n",
    "    print(\"Welcome Aboard\")"
   ]
  },
  {
   "cell_type": "markdown",
   "metadata": {},
   "source": [
    "# While Loops\n",
    "These will loop until the condition becomes false."
   ]
  },
  {
   "cell_type": "code",
   "execution_count": 7,
   "metadata": {
    "collapsed": false
   },
   "outputs": [
    {
     "name": "stdout",
     "output_type": "stream",
     "text": [
      "101\n"
     ]
    }
   ],
   "source": [
    "keep_going = True\n",
    "cumulative = 0\n",
    "while keep_going:\n",
    "    cumulative += 1 # same as cumulative = cumulative + 1\n",
    "    if cumulative > 100:\n",
    "        keep_going = False\n",
    "        \n",
    "print(cumulative)"
   ]
  },
  {
   "cell_type": "markdown",
   "metadata": {},
   "source": [
    "Basic loop 100 times while loop"
   ]
  },
  {
   "cell_type": "code",
   "execution_count": 8,
   "metadata": {
    "collapsed": false,
    "scrolled": true
   },
   "outputs": [
    {
     "name": "stdout",
     "output_type": "stream",
     "text": [
      "10000\n"
     ]
    }
   ],
   "source": [
    "counter = 0\n",
    "cumulative = 0\n",
    "\n",
    "while counter < 100:\n",
    "    cumulative += 100\n",
    "    counter += 1\n",
    "    \n",
    "print(cumulative)"
   ]
  },
  {
   "cell_type": "markdown",
   "metadata": {},
   "source": [
    "**break** will smash out of the loop it is in but stay in any outer loops"
   ]
  },
  {
   "cell_type": "code",
   "execution_count": null,
   "metadata": {
    "collapsed": false
   },
   "outputs": [],
   "source": [
    "keep_going = True\n",
    "while keep_going:\n",
    "    print(\"Enter keep going\")\n",
    "    while True:\n",
    "        value = input(\"Tell me something\")\n",
    "        if value == \"exit\":\n",
    "            break\n",
    "    print(\"End of outer loop\")\n",
    "print(\"end of program\")"
   ]
  },
  {
   "cell_type": "code",
   "execution_count": 3,
   "metadata": {
    "collapsed": false
   },
   "outputs": [
    {
     "name": "stdout",
     "output_type": "stream",
     "text": [
      "Give me a numberHello\n",
      "Please enter a number\n",
      "Give me a number10\n",
      "Your number was: 10\n"
     ]
    }
   ],
   "source": [
    "keep_going = True\n",
    "while keep_going:\n",
    "    value = input(\"Give me a number\")\n",
    "    try:\n",
    "        user_number = int(value)\n",
    "        keep_going = False\n",
    "    except:\n",
    "        print(\"Please enter a number\")\n",
    "        continue\n",
    "    print(\"Your number was:\", user_number)"
   ]
  },
  {
   "cell_type": "markdown",
   "metadata": {},
   "source": [
    "# Homework the long way"
   ]
  },
  {
   "cell_type": "code",
   "execution_count": 4,
   "metadata": {
    "collapsed": true
   },
   "outputs": [],
   "source": [
    "guess = 1\n",
    "root = 100"
   ]
  },
  {
   "cell_type": "code",
   "execution_count": 5,
   "metadata": {
    "collapsed": false
   },
   "outputs": [
    {
     "data": {
      "text/plain": [
       "99"
      ]
     },
     "execution_count": 5,
     "metadata": {},
     "output_type": "execute_result"
    }
   ],
   "source": [
    "root - guess**2"
   ]
  },
  {
   "cell_type": "code",
   "execution_count": 8,
   "metadata": {
    "collapsed": false
   },
   "outputs": [
    {
     "data": {
      "text/plain": [
       "50.5"
      ]
     },
     "execution_count": 8,
     "metadata": {},
     "output_type": "execute_result"
    }
   ],
   "source": [
    "guess = (guess + root/guess)/2\n",
    "guess"
   ]
  },
  {
   "cell_type": "code",
   "execution_count": 9,
   "metadata": {
    "collapsed": false
   },
   "outputs": [
    {
     "data": {
      "text/plain": [
       "-2450.25"
      ]
     },
     "execution_count": 9,
     "metadata": {},
     "output_type": "execute_result"
    }
   ],
   "source": [
    "root - guess**2"
   ]
  },
  {
   "cell_type": "code",
   "execution_count": 10,
   "metadata": {
    "collapsed": false
   },
   "outputs": [
    {
     "data": {
      "text/plain": [
       "26.24009900990099"
      ]
     },
     "execution_count": 10,
     "metadata": {},
     "output_type": "execute_result"
    }
   ],
   "source": [
    "guess = (guess + root/guess)/2\n",
    "guess"
   ]
  },
  {
   "cell_type": "code",
   "execution_count": 11,
   "metadata": {
    "collapsed": true
   },
   "outputs": [],
   "source": [
    "guess = (guess + root/guess)/2"
   ]
  },
  {
   "cell_type": "code",
   "execution_count": 12,
   "metadata": {
    "collapsed": false
   },
   "outputs": [
    {
     "data": {
      "text/plain": [
       "15.025530119986813"
      ]
     },
     "execution_count": 12,
     "metadata": {},
     "output_type": "execute_result"
    }
   ],
   "source": [
    "guess"
   ]
  },
  {
   "cell_type": "code",
   "execution_count": null,
   "metadata": {
    "collapsed": true
   },
   "outputs": [],
   "source": []
  }
 ],
 "metadata": {
  "kernelspec": {
   "display_name": "Python 3",
   "language": "python",
   "name": "python3"
  },
  "language_info": {
   "codemirror_mode": {
    "name": "ipython",
    "version": 3
   },
   "file_extension": ".py",
   "mimetype": "text/x-python",
   "name": "python",
   "nbconvert_exporter": "python",
   "pygments_lexer": "ipython3",
   "version": "3.5.0"
  }
 },
 "nbformat": 4,
 "nbformat_minor": 0
}
